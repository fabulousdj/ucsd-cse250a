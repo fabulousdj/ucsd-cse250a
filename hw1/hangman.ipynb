{
 "cells": [
  {
   "cell_type": "code",
   "execution_count": 1,
   "metadata": {
    "collapsed": true,
    "pycharm": {
     "name": "#%%\n"
    }
   },
   "outputs": [],
   "source": [
    "import pandas as pd"
   ]
  },
  {
   "cell_type": "code",
   "execution_count": 2,
   "outputs": [],
   "source": [
    "word_counts = pd.read_csv('hw1_word_counts_05.txt', sep=\" \", header=None)"
   ],
   "metadata": {
    "collapsed": false,
    "pycharm": {
     "name": "#%%\n"
    }
   }
  },
  {
   "cell_type": "code",
   "execution_count": 3,
   "outputs": [
    {
     "data": {
      "text/plain": "       0    1\n0  AARON  413\n1  ABABA  199\n2  ABACK   64\n3  ABATE   69\n4  ABBAS  290\n5  ABBEY  213\n6  ABBIE   42\n7  ABBOT   20\n8  ABDEL  337\n9  ABDOU   16",
      "text/html": "<div>\n<style scoped>\n    .dataframe tbody tr th:only-of-type {\n        vertical-align: middle;\n    }\n\n    .dataframe tbody tr th {\n        vertical-align: top;\n    }\n\n    .dataframe thead th {\n        text-align: right;\n    }\n</style>\n<table border=\"1\" class=\"dataframe\">\n  <thead>\n    <tr style=\"text-align: right;\">\n      <th></th>\n      <th>0</th>\n      <th>1</th>\n    </tr>\n  </thead>\n  <tbody>\n    <tr>\n      <th>0</th>\n      <td>AARON</td>\n      <td>413</td>\n    </tr>\n    <tr>\n      <th>1</th>\n      <td>ABABA</td>\n      <td>199</td>\n    </tr>\n    <tr>\n      <th>2</th>\n      <td>ABACK</td>\n      <td>64</td>\n    </tr>\n    <tr>\n      <th>3</th>\n      <td>ABATE</td>\n      <td>69</td>\n    </tr>\n    <tr>\n      <th>4</th>\n      <td>ABBAS</td>\n      <td>290</td>\n    </tr>\n    <tr>\n      <th>5</th>\n      <td>ABBEY</td>\n      <td>213</td>\n    </tr>\n    <tr>\n      <th>6</th>\n      <td>ABBIE</td>\n      <td>42</td>\n    </tr>\n    <tr>\n      <th>7</th>\n      <td>ABBOT</td>\n      <td>20</td>\n    </tr>\n    <tr>\n      <th>8</th>\n      <td>ABDEL</td>\n      <td>337</td>\n    </tr>\n    <tr>\n      <th>9</th>\n      <td>ABDOU</td>\n      <td>16</td>\n    </tr>\n  </tbody>\n</table>\n</div>"
     },
     "execution_count": 3,
     "metadata": {},
     "output_type": "execute_result"
    }
   ],
   "source": [
    "word_counts.head(10)"
   ],
   "metadata": {
    "collapsed": false,
    "pycharm": {
     "name": "#%%\n"
    }
   }
  },
  {
   "cell_type": "code",
   "execution_count": 4,
   "outputs": [],
   "source": [
    "word_counts.columns = ['word', 'count']"
   ],
   "metadata": {
    "collapsed": false,
    "pycharm": {
     "name": "#%%\n"
    }
   }
  },
  {
   "cell_type": "code",
   "execution_count": 5,
   "outputs": [],
   "source": [
    "word_counts = word_counts.sort_values('count', ascending=False)"
   ],
   "metadata": {
    "collapsed": false,
    "pycharm": {
     "name": "#%%\n"
    }
   }
  },
  {
   "cell_type": "code",
   "execution_count": 6,
   "outputs": [
    {
     "data": {
      "text/plain": "       word   count\n5821  THREE  273077\n5102  SEVEN  178842\n1684  EIGHT  165764\n6403  WOULD  159875\n18    ABOUT  157448\n5804  THEIR  145434\n6320  WHICH  142146\n73    AFTER  110102\n1975  FIRST  109957\n1947  FIFTY  106869\n4158  OTHER  106052\n2073  FORTY   94951\n6457  YEARS   88900\n5806  THERE   86502\n5250  SIXTY   73086",
      "text/html": "<div>\n<style scoped>\n    .dataframe tbody tr th:only-of-type {\n        vertical-align: middle;\n    }\n\n    .dataframe tbody tr th {\n        vertical-align: top;\n    }\n\n    .dataframe thead th {\n        text-align: right;\n    }\n</style>\n<table border=\"1\" class=\"dataframe\">\n  <thead>\n    <tr style=\"text-align: right;\">\n      <th></th>\n      <th>word</th>\n      <th>count</th>\n    </tr>\n  </thead>\n  <tbody>\n    <tr>\n      <th>5821</th>\n      <td>THREE</td>\n      <td>273077</td>\n    </tr>\n    <tr>\n      <th>5102</th>\n      <td>SEVEN</td>\n      <td>178842</td>\n    </tr>\n    <tr>\n      <th>1684</th>\n      <td>EIGHT</td>\n      <td>165764</td>\n    </tr>\n    <tr>\n      <th>6403</th>\n      <td>WOULD</td>\n      <td>159875</td>\n    </tr>\n    <tr>\n      <th>18</th>\n      <td>ABOUT</td>\n      <td>157448</td>\n    </tr>\n    <tr>\n      <th>5804</th>\n      <td>THEIR</td>\n      <td>145434</td>\n    </tr>\n    <tr>\n      <th>6320</th>\n      <td>WHICH</td>\n      <td>142146</td>\n    </tr>\n    <tr>\n      <th>73</th>\n      <td>AFTER</td>\n      <td>110102</td>\n    </tr>\n    <tr>\n      <th>1975</th>\n      <td>FIRST</td>\n      <td>109957</td>\n    </tr>\n    <tr>\n      <th>1947</th>\n      <td>FIFTY</td>\n      <td>106869</td>\n    </tr>\n    <tr>\n      <th>4158</th>\n      <td>OTHER</td>\n      <td>106052</td>\n    </tr>\n    <tr>\n      <th>2073</th>\n      <td>FORTY</td>\n      <td>94951</td>\n    </tr>\n    <tr>\n      <th>6457</th>\n      <td>YEARS</td>\n      <td>88900</td>\n    </tr>\n    <tr>\n      <th>5806</th>\n      <td>THERE</td>\n      <td>86502</td>\n    </tr>\n    <tr>\n      <th>5250</th>\n      <td>SIXTY</td>\n      <td>73086</td>\n    </tr>\n  </tbody>\n</table>\n</div>"
     },
     "execution_count": 6,
     "metadata": {},
     "output_type": "execute_result"
    }
   ],
   "source": [
    "word_counts.head(15)"
   ],
   "metadata": {
    "collapsed": false,
    "pycharm": {
     "name": "#%%\n"
    }
   }
  },
  {
   "cell_type": "code",
   "execution_count": 7,
   "outputs": [
    {
     "data": {
      "text/plain": "       word  count\n5093  SERNA      7\n5872  TOCOR      7\n3978  NIAID      7\n1842  FABRI      7\n4266  PAXON      7\n2041  FOAMY      7\n6443  YALOM      7\n977   CCAIR      7\n1107  CLEFT      7\n3554  MAPCO      6\n895   CAIXA      6\n4160  OTTIS      6\n5985  TROUP      6\n712   BOSAK      6",
      "text/html": "<div>\n<style scoped>\n    .dataframe tbody tr th:only-of-type {\n        vertical-align: middle;\n    }\n\n    .dataframe tbody tr th {\n        vertical-align: top;\n    }\n\n    .dataframe thead th {\n        text-align: right;\n    }\n</style>\n<table border=\"1\" class=\"dataframe\">\n  <thead>\n    <tr style=\"text-align: right;\">\n      <th></th>\n      <th>word</th>\n      <th>count</th>\n    </tr>\n  </thead>\n  <tbody>\n    <tr>\n      <th>5093</th>\n      <td>SERNA</td>\n      <td>7</td>\n    </tr>\n    <tr>\n      <th>5872</th>\n      <td>TOCOR</td>\n      <td>7</td>\n    </tr>\n    <tr>\n      <th>3978</th>\n      <td>NIAID</td>\n      <td>7</td>\n    </tr>\n    <tr>\n      <th>1842</th>\n      <td>FABRI</td>\n      <td>7</td>\n    </tr>\n    <tr>\n      <th>4266</th>\n      <td>PAXON</td>\n      <td>7</td>\n    </tr>\n    <tr>\n      <th>2041</th>\n      <td>FOAMY</td>\n      <td>7</td>\n    </tr>\n    <tr>\n      <th>6443</th>\n      <td>YALOM</td>\n      <td>7</td>\n    </tr>\n    <tr>\n      <th>977</th>\n      <td>CCAIR</td>\n      <td>7</td>\n    </tr>\n    <tr>\n      <th>1107</th>\n      <td>CLEFT</td>\n      <td>7</td>\n    </tr>\n    <tr>\n      <th>3554</th>\n      <td>MAPCO</td>\n      <td>6</td>\n    </tr>\n    <tr>\n      <th>895</th>\n      <td>CAIXA</td>\n      <td>6</td>\n    </tr>\n    <tr>\n      <th>4160</th>\n      <td>OTTIS</td>\n      <td>6</td>\n    </tr>\n    <tr>\n      <th>5985</th>\n      <td>TROUP</td>\n      <td>6</td>\n    </tr>\n    <tr>\n      <th>712</th>\n      <td>BOSAK</td>\n      <td>6</td>\n    </tr>\n  </tbody>\n</table>\n</div>"
     },
     "execution_count": 7,
     "metadata": {},
     "output_type": "execute_result"
    }
   ],
   "source": [
    "word_counts.tail(14)"
   ],
   "metadata": {
    "collapsed": false,
    "pycharm": {
     "name": "#%%\n"
    }
   }
  },
  {
   "cell_type": "code",
   "execution_count": 8,
   "outputs": [
    {
     "data": {
      "text/plain": "7664857"
     },
     "execution_count": 8,
     "metadata": {},
     "output_type": "execute_result"
    }
   ],
   "source": [
    "count_sum = sum(word_counts['count'])\n",
    "count_sum"
   ],
   "metadata": {
    "collapsed": false,
    "pycharm": {
     "name": "#%%\n"
    }
   }
  },
  {
   "cell_type": "code",
   "execution_count": 9,
   "outputs": [
    {
     "data": {
      "text/plain": "5821    3.562715e-02\n5102    2.333272e-02\n1684    2.162650e-02\n6403    2.085818e-02\n18      2.054154e-02\n            ...     \n3554    7.827935e-07\n895     7.827935e-07\n4160    7.827935e-07\n5985    7.827935e-07\n712     7.827935e-07\nName: count, Length: 6535, dtype: float64"
     },
     "execution_count": 9,
     "metadata": {},
     "output_type": "execute_result"
    }
   ],
   "source": [
    "word_prob = word_counts['count'] / count_sum;\n",
    "word_prob"
   ],
   "metadata": {
    "collapsed": false,
    "pycharm": {
     "name": "#%%\n"
    }
   }
  },
  {
   "cell_type": "code",
   "execution_count": 10,
   "outputs": [
    {
     "data": {
      "text/plain": "       word   count          prob\n5821  THREE  273077  3.562715e-02\n5102  SEVEN  178842  2.333272e-02\n1684  EIGHT  165764  2.162650e-02\n6403  WOULD  159875  2.085818e-02\n18    ABOUT  157448  2.054154e-02\n...     ...     ...           ...\n3554  MAPCO       6  7.827935e-07\n895   CAIXA       6  7.827935e-07\n4160  OTTIS       6  7.827935e-07\n5985  TROUP       6  7.827935e-07\n712   BOSAK       6  7.827935e-07\n\n[6535 rows x 3 columns]",
      "text/html": "<div>\n<style scoped>\n    .dataframe tbody tr th:only-of-type {\n        vertical-align: middle;\n    }\n\n    .dataframe tbody tr th {\n        vertical-align: top;\n    }\n\n    .dataframe thead th {\n        text-align: right;\n    }\n</style>\n<table border=\"1\" class=\"dataframe\">\n  <thead>\n    <tr style=\"text-align: right;\">\n      <th></th>\n      <th>word</th>\n      <th>count</th>\n      <th>prob</th>\n    </tr>\n  </thead>\n  <tbody>\n    <tr>\n      <th>5821</th>\n      <td>THREE</td>\n      <td>273077</td>\n      <td>3.562715e-02</td>\n    </tr>\n    <tr>\n      <th>5102</th>\n      <td>SEVEN</td>\n      <td>178842</td>\n      <td>2.333272e-02</td>\n    </tr>\n    <tr>\n      <th>1684</th>\n      <td>EIGHT</td>\n      <td>165764</td>\n      <td>2.162650e-02</td>\n    </tr>\n    <tr>\n      <th>6403</th>\n      <td>WOULD</td>\n      <td>159875</td>\n      <td>2.085818e-02</td>\n    </tr>\n    <tr>\n      <th>18</th>\n      <td>ABOUT</td>\n      <td>157448</td>\n      <td>2.054154e-02</td>\n    </tr>\n    <tr>\n      <th>...</th>\n      <td>...</td>\n      <td>...</td>\n      <td>...</td>\n    </tr>\n    <tr>\n      <th>3554</th>\n      <td>MAPCO</td>\n      <td>6</td>\n      <td>7.827935e-07</td>\n    </tr>\n    <tr>\n      <th>895</th>\n      <td>CAIXA</td>\n      <td>6</td>\n      <td>7.827935e-07</td>\n    </tr>\n    <tr>\n      <th>4160</th>\n      <td>OTTIS</td>\n      <td>6</td>\n      <td>7.827935e-07</td>\n    </tr>\n    <tr>\n      <th>5985</th>\n      <td>TROUP</td>\n      <td>6</td>\n      <td>7.827935e-07</td>\n    </tr>\n    <tr>\n      <th>712</th>\n      <td>BOSAK</td>\n      <td>6</td>\n      <td>7.827935e-07</td>\n    </tr>\n  </tbody>\n</table>\n<p>6535 rows × 3 columns</p>\n</div>"
     },
     "execution_count": 10,
     "metadata": {},
     "output_type": "execute_result"
    }
   ],
   "source": [
    "word_counts['prob'] = word_prob\n",
    "word_counts"
   ],
   "metadata": {
    "collapsed": false,
    "pycharm": {
     "name": "#%%\n"
    }
   }
  },
  {
   "cell_type": "markdown",
   "source": [
    "Assume `curr=['M','_','D','_','M']`, `block_list=['I']`:\n",
    "$\\text{best_next_guess}=argmax_{l}P(L_2=l\\text{ or }L_4=l|L_1=M,L_2=D,L_5=M,L_2\\notin\\{D,I,M\\},L_4\\notin\\{D,I,M\\})$"
   ],
   "metadata": {
    "collapsed": false
   }
  },
  {
   "cell_type": "code",
   "execution_count": 35,
   "outputs": [],
   "source": [
    "def prob_l_at_any_i_given_w(curr: list, w: str, l: str) -> float:\n",
    "    for i in range(0, len(curr)):\n",
    "        if curr[i] == '_' and w[i] == l:\n",
    "                return 1\n",
    "    return 0"
   ],
   "metadata": {
    "collapsed": false,
    "pycharm": {
     "name": "#%%\n"
    }
   }
  },
  {
   "cell_type": "code",
   "execution_count": 36,
   "outputs": [
    {
     "data": {
      "text/plain": "1"
     },
     "execution_count": 36,
     "metadata": {},
     "output_type": "execute_result"
    }
   ],
   "source": [
    "prob_l_at_any_i_given_w(['A','P','P','L','_'], 'APPLE', 'E')"
   ],
   "metadata": {
    "collapsed": false,
    "pycharm": {
     "name": "#%%\n"
    }
   }
  },
  {
   "cell_type": "code",
   "execution_count": 37,
   "outputs": [],
   "source": [
    "def prob_e_given_w(curr: list, block_list: set, w: str) -> float:\n",
    "    for i in range(0, len(curr)):\n",
    "        if curr[i] == '_':\n",
    "            if w[i] in block_list:\n",
    "                return 0\n",
    "        elif curr[i] != w[i]:\n",
    "            return 0\n",
    "    return 1"
   ],
   "metadata": {
    "collapsed": false,
    "pycharm": {
     "name": "#%%\n"
    }
   }
  },
  {
   "cell_type": "code",
   "execution_count": 38,
   "outputs": [
    {
     "data": {
      "text/plain": "0"
     },
     "execution_count": 38,
     "metadata": {},
     "output_type": "execute_result"
    }
   ],
   "source": [
    "prob_e_given_w(['M','_','D','_','M'], {'M', 'D', 'I'}, 'MEDIM')"
   ],
   "metadata": {
    "collapsed": false,
    "pycharm": {
     "name": "#%%\n"
    }
   }
  },
  {
   "cell_type": "code",
   "execution_count": 53,
   "outputs": [],
   "source": [
    "def best_next_guess(curr: list, block_list: list, word_counts: pd.DataFrame) -> [str, float]:\n",
    "    # add chars in curr into block list\n",
    "    block_list += [c for c in curr if c != '_']\n",
    "    block_set = set(block_list)\n",
    "    best_guess = None\n",
    "    max_prob = -1\n",
    "    for letter in [\"A\",\"B\",\"C\",\"D\",\"E\",\"F\",\"G\",\"H\",\"I\",\"J\",\"K\",\"L\",\"M\",\"N\",\"O\",\"P\",\"Q\",\"R\",\"S\",\"T\",\"U\",\"V\",\"W\",\"X\",\"Y\",\"Z\"]:\n",
    "        if letter in block_list:\n",
    "            continue\n",
    "        num = 0\n",
    "        denom = 0\n",
    "        for _,row in word_counts.iterrows():\n",
    "            tmp = prob_e_given_w(curr, block_set, row['word'])\n",
    "            num += prob_l_at_any_i_given_w(curr, row['word'], letter) * tmp * row['prob']\n",
    "            denom += tmp * row['prob']\n",
    "        p = num / denom\n",
    "        if p > max_prob:\n",
    "            max_prob = p\n",
    "            best_guess = letter\n",
    "    return [best_guess, max_prob]"
   ],
   "metadata": {
    "collapsed": false,
    "pycharm": {
     "name": "#%%\n"
    }
   }
  },
  {
   "cell_type": "code",
   "execution_count": 54,
   "outputs": [
    {
     "data": {
      "text/plain": "['E', 0.5394172389647954]"
     },
     "execution_count": 54,
     "metadata": {},
     "output_type": "execute_result"
    }
   ],
   "source": [
    "best_next_guess(['_','_','_','_','_'], [], word_counts)"
   ],
   "metadata": {
    "collapsed": false,
    "pycharm": {
     "name": "#%%\n"
    }
   }
  },
  {
   "cell_type": "code",
   "execution_count": 55,
   "outputs": [
    {
     "data": {
      "text/plain": "['O', 0.5340315651557564]"
     },
     "execution_count": 55,
     "metadata": {},
     "output_type": "execute_result"
    }
   ],
   "source": [
    "best_next_guess(['_','_','_','_','_'], ['E','A'], word_counts)"
   ],
   "metadata": {
    "collapsed": false,
    "pycharm": {
     "name": "#%%\n"
    }
   }
  },
  {
   "cell_type": "code",
   "execution_count": 56,
   "outputs": [
    {
     "data": {
      "text/plain": "['E', 0.771537162162162]"
     },
     "execution_count": 56,
     "metadata": {},
     "output_type": "execute_result"
    }
   ],
   "source": [
    "best_next_guess(['A','_','_','_','S'], [], word_counts)"
   ],
   "metadata": {
    "collapsed": false,
    "pycharm": {
     "name": "#%%\n"
    }
   }
  },
  {
   "cell_type": "code",
   "execution_count": 57,
   "outputs": [
    {
     "data": {
      "text/plain": "['E', 0.7127008416220354]"
     },
     "execution_count": 57,
     "metadata": {},
     "output_type": "execute_result"
    }
   ],
   "source": [
    "best_next_guess(['A','_','_','_','S'], ['I'], word_counts)"
   ],
   "metadata": {
    "collapsed": false,
    "pycharm": {
     "name": "#%%\n"
    }
   }
  },
  {
   "cell_type": "code",
   "execution_count": 58,
   "outputs": [
    {
     "data": {
      "text/plain": "['R', 0.7453866259829712]"
     },
     "execution_count": 58,
     "metadata": {},
     "output_type": "execute_result"
    }
   ],
   "source": [
    "best_next_guess(['_','_','O','_','_'], ['A','E','M','N','T'], word_counts)"
   ],
   "metadata": {
    "collapsed": false,
    "pycharm": {
     "name": "#%%\n"
    }
   }
  },
  {
   "cell_type": "code",
   "execution_count": 59,
   "outputs": [
    {
     "data": {
      "text/plain": "['I', 0.6365554141009615]"
     },
     "execution_count": 59,
     "metadata": {},
     "output_type": "execute_result"
    }
   ],
   "source": [
    "best_next_guess(['_','_','_','_','_'], ['E','O'], word_counts)"
   ],
   "metadata": {
    "collapsed": false,
    "pycharm": {
     "name": "#%%\n"
    }
   }
  },
  {
   "cell_type": "code",
   "execution_count": 60,
   "outputs": [
    {
     "data": {
      "text/plain": "['A', 0.820684523809524]"
     },
     "execution_count": 60,
     "metadata": {},
     "output_type": "execute_result"
    }
   ],
   "source": [
    "best_next_guess(['D','_','_','I','_'], [], word_counts)"
   ],
   "metadata": {
    "collapsed": false,
    "pycharm": {
     "name": "#%%\n"
    }
   }
  },
  {
   "cell_type": "code",
   "execution_count": 61,
   "outputs": [
    {
     "data": {
      "text/plain": "['E', 0.7520746887966807]"
     },
     "execution_count": 61,
     "metadata": {},
     "output_type": "execute_result"
    }
   ],
   "source": [
    "best_next_guess(['D','_','_','I','_'], ['A'], word_counts)"
   ],
   "metadata": {
    "collapsed": false,
    "pycharm": {
     "name": "#%%\n"
    }
   }
  },
  {
   "cell_type": "code",
   "execution_count": 62,
   "outputs": [
    {
     "data": {
      "text/plain": "['Y', 0.6269651101630527]"
     },
     "execution_count": 62,
     "metadata": {},
     "output_type": "execute_result"
    }
   ],
   "source": [
    "best_next_guess(['_','U','_','_','_'], ['A','E','I','O','S'], word_counts)"
   ],
   "metadata": {
    "collapsed": false,
    "pycharm": {
     "name": "#%%\n"
    }
   }
  },
  {
   "cell_type": "code",
   "execution_count": null,
   "outputs": [],
   "source": [],
   "metadata": {
    "collapsed": false,
    "pycharm": {
     "name": "#%%\n"
    }
   }
  }
 ],
 "metadata": {
  "kernelspec": {
   "display_name": "Python 3",
   "language": "python",
   "name": "python3"
  },
  "language_info": {
   "codemirror_mode": {
    "name": "ipython",
    "version": 2
   },
   "file_extension": ".py",
   "mimetype": "text/x-python",
   "name": "python",
   "nbconvert_exporter": "python",
   "pygments_lexer": "ipython2",
   "version": "2.7.6"
  }
 },
 "nbformat": 4,
 "nbformat_minor": 0
}