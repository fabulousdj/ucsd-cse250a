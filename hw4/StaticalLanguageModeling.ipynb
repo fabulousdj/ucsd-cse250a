{
 "cells": [
  {
   "cell_type": "markdown",
   "metadata": {
    "collapsed": true,
    "pycharm": {
     "name": "#%% md\n"
    }
   },
   "source": [
    "## 4.3 Statical language modeling"
   ]
  },
  {
   "cell_type": "markdown",
   "source": [
    "### (a)"
   ],
   "metadata": {
    "collapsed": false,
    "pycharm": {
     "name": "#%% md\n"
    }
   }
  },
  {
   "cell_type": "code",
   "execution_count": 8,
   "outputs": [],
   "source": [
    "# read data from txt files\n",
    "with open('hw4_vocab.txt','r') as f:\n",
    "    vocab = f.readlines()\n",
    "    f.close()\n",
    "with open('hw4_unigram.txt','r') as f:\n",
    "    count_uni = f.readlines()\n",
    "    f.close()"
   ],
   "metadata": {
    "collapsed": false,
    "pycharm": {
     "name": "#%%\n"
    }
   }
  },
  {
   "cell_type": "code",
   "execution_count": 9,
   "outputs": [],
   "source": [
    "# data cleaning\n",
    "import numpy as np\n",
    "for i in range(len(vocab)):\n",
    "    vocab_stripped = vocab[i].strip()\n",
    "    count_uni_stripped = int(count_uni[i].strip())\n",
    "    vocab[i], count_uni[i] = vocab_stripped, count_uni_stripped\n",
    "count_uni = np.array(count_uni)\n",
    "#numeric unigram probability\n",
    "prob_uni = count_uni / np.sum(count_uni)"
   ],
   "metadata": {
    "collapsed": false,
    "pycharm": {
     "name": "#%%\n"
    }
   }
  },
  {
   "cell_type": "code",
   "execution_count": 10,
   "outputs": [
    {
     "name": "stdout",
     "output_type": "stream",
     "text": [
      "vocab=MILLION, prob=0.00207\n",
      "vocab=MORE, prob=0.00171\n",
      "vocab=MR., prob=0.00144\n",
      "vocab=MOST, prob=0.00079\n",
      "vocab=MARKET, prob=0.00078\n",
      "vocab=MAY, prob=0.00073\n",
      "vocab=M., prob=0.00070\n",
      "vocab=MANY, prob=0.00070\n",
      "vocab=MADE, prob=0.00056\n",
      "vocab=MUCH, prob=0.00051\n",
      "vocab=MAKE, prob=0.00051\n",
      "vocab=MONTH, prob=0.00044\n",
      "vocab=MONEY, prob=0.00044\n",
      "vocab=MONTHS, prob=0.00041\n",
      "vocab=MY, prob=0.00040\n",
      "vocab=MONDAY, prob=0.00038\n",
      "vocab=MAJOR, prob=0.00037\n",
      "vocab=MILITARY, prob=0.00035\n",
      "vocab=MEMBERS, prob=0.00034\n",
      "vocab=MIGHT, prob=0.00027\n",
      "vocab=MEETING, prob=0.00027\n",
      "vocab=MUST, prob=0.00027\n",
      "vocab=ME, prob=0.00026\n",
      "vocab=MARCH, prob=0.00026\n",
      "vocab=MAN, prob=0.00025\n",
      "vocab=MS., prob=0.00024\n",
      "vocab=MINISTER, prob=0.00024\n",
      "vocab=MAKING, prob=0.00021\n",
      "vocab=MOVE, prob=0.00021\n",
      "vocab=MILES, prob=0.00021\n"
     ]
    }
   ],
   "source": [
    "for i in range(len(vocab)):\n",
    "    if vocab[i].startswith('M'):\n",
    "        print('vocab=%s, prob=%.5f' % (vocab[i], prob_uni[i]))"
   ],
   "metadata": {
    "collapsed": false,
    "pycharm": {
     "name": "#%%\n"
    }
   }
  },
  {
   "cell_type": "markdown",
   "source": [
    "### (b)"
   ],
   "metadata": {
    "collapsed": false,
    "pycharm": {
     "name": "#%% md\n"
    }
   }
  },
  {
   "cell_type": "markdown",
   "source": [
    "$p_b(w'|w)=\\frac{count(w,w')}{\\sum_{w''}count(w,w'')}$"
   ],
   "metadata": {
    "collapsed": false,
    "pycharm": {
     "name": "#%% md\n"
    }
   }
  },
  {
   "cell_type": "code",
   "execution_count": 56,
   "outputs": [],
   "source": [
    "import csv\n",
    "# count_bi_matrix[w1][w2] = count(w1, w2)\n",
    "count_bi_matrix = np.zeros((len(vocab),len(vocab)))\n",
    "with open('hw4_bigram.txt','r') as f:\n",
    "    f = csv.reader(f, delimiter=\"\\t\")\n",
    "    for row in f:\n",
    "        count_bi_matrix[int(row[0])-1][int(row[1])-1] = int(row[2])"
   ],
   "metadata": {
    "collapsed": false,
    "pycharm": {
     "name": "#%%\n"
    }
   }
  },
  {
   "cell_type": "code",
   "execution_count": 57,
   "outputs": [
    {
     "data": {
      "text/plain": "3"
     },
     "execution_count": 57,
     "metadata": {},
     "output_type": "execute_result"
    }
   ],
   "source": [
    "index_of_the = vocab.index('THE')\n",
    "index_of_the"
   ],
   "metadata": {
    "collapsed": false,
    "pycharm": {
     "name": "#%%\n"
    }
   }
  },
  {
   "cell_type": "markdown",
   "source": [
    "`count_parent[w]` represents $\\sum_{w''}count(w,w'')$"
   ],
   "metadata": {
    "collapsed": false,
    "pycharm": {
     "name": "#%% md\n"
    }
   }
  },
  {
   "cell_type": "code",
   "execution_count": 58,
   "outputs": [
    {
     "data": {
      "text/plain": "3855375.0"
     },
     "execution_count": 58,
     "metadata": {},
     "output_type": "execute_result"
    }
   ],
   "source": [
    "# bigram probability distribution\n",
    "count_parent = np.sum(count_bi_matrix, axis = 1)\n",
    "count_parent[index_of_the]"
   ],
   "metadata": {
    "collapsed": false,
    "pycharm": {
     "name": "#%%\n"
    }
   }
  },
  {
   "cell_type": "code",
   "execution_count": 59,
   "outputs": [
    {
     "name": "stdout",
     "output_type": "stream",
     "text": [
      "TWO 0.006160749602827221\n",
      "SAME 0.006287066757449016\n",
      "NINETEEN 0.006650714911000876\n",
      "GOVERNMENT 0.006803488635995202\n",
      "UNITED 0.008672308141231398\n",
      "NEW 0.009451480076516552\n",
      "COMPANY 0.011658788055636611\n",
      "FIRST 0.011720260675031612\n",
      "U. 0.013372499432610317\n",
      "<UNK> 0.6150198100055118\n"
     ]
    },
    {
     "name": "stderr",
     "output_type": "stream",
     "text": [
      "/var/folders/jj/st19g0h11dj2btjtztczv4bc0000gn/T/ipykernel_58553/1356996494.py:2: RuntimeWarning: invalid value encountered in true_divide\n",
      "  prob_bi = np.nan_to_num((count_bi_matrix.T / count_parent)).T\n"
     ]
    }
   ],
   "source": [
    "# divide each row by each element in count_parent\n",
    "prob_bi = np.nan_to_num((count_bi_matrix.T / count_parent)).T\n",
    "most_10 = np.argsort(prob_bi[index_of_the])[-10:]\n",
    "for item in most_10:\n",
    "    print(vocab[item], prob_bi[index_of_the][item])"
   ],
   "metadata": {
    "collapsed": false,
    "pycharm": {
     "name": "#%%\n"
    }
   }
  },
  {
   "cell_type": "markdown",
   "source": [
    "### (c)"
   ],
   "metadata": {
    "collapsed": false,
    "pycharm": {
     "name": "#%% md\n"
    }
   }
  },
  {
   "cell_type": "code",
   "execution_count": 71,
   "outputs": [
    {
     "name": "stdout",
     "output_type": "stream",
     "text": [
      "['THE', 'STOCK', 'MARKET', 'FELL', 'BY', 'ONE', 'HUNDRED', 'POINTS', 'LAST', 'WEEK']\n",
      "[3, 132, 121, 376, 25, 16, 26, 439, 88, 155]\n"
     ]
    }
   ],
   "source": [
    "sentence1 = \"THE STOCK MARKET FELL BY ONE HUNDRED POINTS LAST WEEK\"\n",
    "sentence1_split = sentence1.split()\n",
    "print(sentence1_split)\n",
    "sentence1_index = [vocab.index(item) for item in sentence1_split]\n",
    "print(sentence1_index)"
   ],
   "metadata": {
    "collapsed": false,
    "pycharm": {
     "name": "#%%\n"
    }
   }
  },
  {
   "cell_type": "code",
   "execution_count": 72,
   "outputs": [
    {
     "name": "stdout",
     "output_type": "stream",
     "text": [
      "The log-likelihood under the uni-gram model is -64.50944\n"
     ]
    }
   ],
   "source": [
    "def log_likelihood_uni(prob_uni, sentence_index):\n",
    "    return np.sum(np.log(prob_uni[sentence_index]))\n",
    "Lu = log_likelihood_uni(prob_uni, sentence1_index)\n",
    "print('The log-likelihood under the uni-gram model is %.5f' % Lu)"
   ],
   "metadata": {
    "collapsed": false,
    "pycharm": {
     "name": "#%%\n"
    }
   }
  },
  {
   "cell_type": "code",
   "execution_count": 93,
   "outputs": [
    {
     "name": "stdout",
     "output_type": "stream",
     "text": [
      "The log-likelihood under the bi-gram model is -40.91813\n"
     ]
    }
   ],
   "source": [
    "def log_likelihood_bi(prob_bi, sentence_index, debug_info=False):\n",
    "    word_count = len(sentence_index)\n",
    "    sentence_prob_bi = np.zeros(word_count)\n",
    "    sentence_prob_bi[0] = prob_bi[vocab.index('<s>')][sentence_index[0]]\n",
    "    for i in range(1, word_count):\n",
    "        if debug_info and prob_bi[sentence_index[i-1]][sentence_index[i]] == 0:\n",
    "            print('No bi-gram relationship of \\'%s\\' -> \\'%s\\' was found in the dataset.' % (vocab[sentence_index[i-1]], vocab[sentence_index[i]]))\n",
    "        sentence_prob_bi[i] = prob_bi[sentence_index[i-1]][sentence_index[i]]\n",
    "    return np.sum(np.log(sentence_prob_bi))\n",
    "Lb = log_likelihood_bi(prob_bi, sentence1_index)\n",
    "print('The log-likelihood under the bi-gram model is %.5f' % Lb)"
   ],
   "metadata": {
    "collapsed": false,
    "pycharm": {
     "name": "#%%\n"
    }
   }
  },
  {
   "cell_type": "markdown",
   "source": [
    "### (d)"
   ],
   "metadata": {
    "collapsed": false,
    "pycharm": {
     "name": "#%% md\n"
    }
   }
  },
  {
   "cell_type": "code",
   "execution_count": 94,
   "outputs": [
    {
     "name": "stdout",
     "output_type": "stream",
     "text": [
      "['THE', 'SIXTEEN', 'OFFICIALS', 'SOLD', 'FIRE', 'INSURANCE']\n",
      "[3, 498, 133, 499, 443, 488]\n"
     ]
    }
   ],
   "source": [
    "sentence2 = \"THE SIXTEEN OFFICIALS SOLD FIRE INSURANCE\"\n",
    "sentence2_split = sentence2.split()\n",
    "print(sentence2_split)\n",
    "sentence2_index = [vocab.index(item) for item in sentence2_split]\n",
    "print(sentence2_index)"
   ],
   "metadata": {
    "collapsed": false,
    "pycharm": {
     "name": "#%%\n"
    }
   }
  },
  {
   "cell_type": "code",
   "execution_count": 95,
   "outputs": [
    {
     "name": "stdout",
     "output_type": "stream",
     "text": [
      "The log-likelihood under the uni-gram model is -44.29193\n",
      "The log-likelihood under the bi-gram model is -inf\n"
     ]
    },
    {
     "name": "stderr",
     "output_type": "stream",
     "text": [
      "/var/folders/jj/st19g0h11dj2btjtztczv4bc0000gn/T/ipykernel_58553/546246704.py:9: RuntimeWarning: divide by zero encountered in log\n",
      "  return np.sum(np.log(sentence_prob_bi))\n"
     ]
    }
   ],
   "source": [
    "Lu = log_likelihood_uni(prob_uni, sentence2_index)\n",
    "print('The log-likelihood under the uni-gram model is %.5f' % Lu)\n",
    "Lb = log_likelihood_bi(prob_bi, sentence2_index)\n",
    "print('The log-likelihood under the bi-gram model is %.5f' % Lb)"
   ],
   "metadata": {
    "collapsed": false,
    "pycharm": {
     "name": "#%%\n"
    }
   }
  },
  {
   "cell_type": "markdown",
   "source": [
    "The absence of 'SIXTEEN' -> 'OFFICIALS' and 'SOLD' -> 'FIRE' in the training corpus causes the bigram-based log likelihood to be -inf."
   ],
   "metadata": {
    "collapsed": false,
    "pycharm": {
     "name": "#%% md\n"
    }
   }
  },
  {
   "cell_type": "markdown",
   "source": [
    "### (e)"
   ],
   "metadata": {
    "collapsed": false,
    "pycharm": {
     "name": "#%% md\n"
    }
   }
  },
  {
   "cell_type": "code",
   "execution_count": 96,
   "outputs": [],
   "source": [
    "def log_likelihood_mixture(prob_uni, prob_bi, sentence_index, l, debug_info=False):\n",
    "    word_count = len(sentence_index)\n",
    "    sentence_prob_bi = np.zeros(word_count)\n",
    "    sentence_prob_bi[0] = prob_bi[vocab.index('<s>')][sentence_index[0]]\n",
    "    for i in range(1, word_count):\n",
    "        if debug_info and prob_bi[sentence_index[i-1]][sentence_index[i]] == 0:\n",
    "            print('No bi-gram relationship of \\'%s\\' -> \\'%s\\' was found in the dataset.' % (vocab[sentence_index[i-1]], vocab[sentence_index[i]]))\n",
    "        sentence_prob_bi[i] = prob_bi[sentence_index[i-1]][sentence_index[i]]\n",
    "    sentence_prob_uni = prob_uni[sentence_index]\n",
    "    sentence_prob_mix = l * sentence_prob_uni + (1-l) * sentence_prob_bi\n",
    "    return np.sum(np.log(sentence_prob_mix))"
   ],
   "metadata": {
    "collapsed": false,
    "pycharm": {
     "name": "#%%\n"
    }
   }
  },
  {
   "cell_type": "code",
   "execution_count": 97,
   "outputs": [
    {
     "name": "stdout",
     "output_type": "stream",
     "text": [
      "The optimal value of lambda is 0.65\n"
     ]
    }
   ],
   "source": [
    "lambda_list = np.linspace(0.0001,0.9999,10000)\n",
    "Lm = [log_likelihood_mixture(prob_uni, prob_bi, sentence2_index, l) for l in lambda_list]\n",
    "best_lambda = lambda_list[np.argmax(Lm)]\n",
    "print('The optimal value of lambda is %.2f' % best_lambda)"
   ],
   "metadata": {
    "collapsed": false,
    "pycharm": {
     "name": "#%%\n"
    }
   }
  },
  {
   "cell_type": "code",
   "execution_count": 101,
   "outputs": [
    {
     "data": {
      "text/plain": "<Figure size 432x288 with 1 Axes>",
      "image/png": "[encoded data removed]"
     },
     "metadata": {
      "needs_background": "light"
     },
     "output_type": "display_data"
    }
   ],
   "source": [
    "import matplotlib.pyplot as plt\n",
    "plt.plot(lambda_list, Lm, '-gD', markevery=[np.argmax(Lm)])\n",
    "plt.xlabel('lamda')\n",
    "plt.ylabel('log likihood')\n",
    "plt.show()"
   ],
   "metadata": {
    "collapsed": false,
    "pycharm": {
     "name": "#%%\n"
    }
   }
  }
 ],
 "metadata": {
  "kernelspec": {
   "display_name": "Python 3",
   "language": "python",
   "name": "python3"
  },
  "language_info": {
   "codemirror_mode": {
    "name": "ipython",
    "version": 2
   },
   "file_extension": ".py",
   "mimetype": "text/x-python",
   "name": "python",
   "nbconvert_exporter": "python",
   "pygments_lexer": "ipython2",
   "version": "2.7.6"
  }
 },
 "nbformat": 4,
 "nbformat_minor": 0
}