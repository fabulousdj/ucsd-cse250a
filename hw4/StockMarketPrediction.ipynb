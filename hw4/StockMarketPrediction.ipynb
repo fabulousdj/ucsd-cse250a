{
 "cells": [
  {
   "cell_type": "markdown",
   "metadata": {
    "collapsed": true,
    "pycharm": {
     "name": "#%% md\n"
    }
   },
   "source": [
    "## 4.4 Stock market prediction"
   ]
  },
  {
   "cell_type": "markdown",
   "source": [
    "### (a)"
   ],
   "metadata": {
    "collapsed": false,
    "pycharm": {
     "name": "#%% md\n"
    }
   }
  },
  {
   "cell_type": "code",
   "execution_count": 28,
   "outputs": [
    {
     "data": {
      "text/plain": "array([3834.44, 3711.09, 4002.23, 4031.38, 3950.95])"
     },
     "execution_count": 28,
     "metadata": {},
     "output_type": "execute_result"
    }
   ],
   "source": [
    "import numpy as np\n",
    "with open('nasdaq00.txt', 'r') as f00:\n",
    "    lines = f00.readlines()\n",
    "    data_train = np.asarray([float(l.strip()) for l in lines])\n",
    "data_train[:5]"
   ],
   "metadata": {
    "collapsed": false,
    "pycharm": {
     "name": "#%%\n"
    }
   }
  },
  {
   "cell_type": "code",
   "execution_count": 29,
   "outputs": [],
   "source": [
    "y_train = data_train[3:]\n",
    "x_train = np.array([data_train[2:len(data_train)-1],data_train[1:len(data_train)-2],data_train[0:len(data_train)-3]])\n",
    "#x_prev"
   ],
   "metadata": {
    "collapsed": false,
    "pycharm": {
     "name": "#%%\n"
    }
   }
  },
  {
   "cell_type": "code",
   "execution_count": 30,
   "outputs": [
    {
     "name": "stdout",
     "output_type": "stream",
     "text": [
      "The linear coefficients (a1, a2, a3) that maximize the log-likelihood are (0.951, 0.016, 0.032)\n"
     ]
    }
   ],
   "source": [
    "from numpy.linalg import inv\n",
    "A = np.dot(x_train,x_train.T)\n",
    "b = np.dot(x_train,y_train[:,np.newaxis])\n",
    "a_mle = np.dot(inv(A),b)\n",
    "print('The linear coefficients (a1, a2, a3) that maximize the log-likelihood are (%.3f, %.3f, %.3f)' % (a_mle[0], a_mle[1], a_mle[2]))"
   ],
   "metadata": {
    "collapsed": false,
    "pycharm": {
     "name": "#%%\n"
    }
   }
  },
  {
   "cell_type": "markdown",
   "source": [
    "### (b)"
   ],
   "metadata": {
    "collapsed": false,
    "pycharm": {
     "name": "#%% md\n"
    }
   }
  },
  {
   "cell_type": "code",
   "execution_count": 31,
   "outputs": [
    {
     "data": {
      "text/plain": "array([2474.16, 2254.56, 2593.96, 2573.11, 2388.72])"
     },
     "execution_count": 31,
     "metadata": {},
     "output_type": "execute_result"
    }
   ],
   "source": [
    "with open('nasdaq01.txt', 'r') as f01:\n",
    "    lines = f01.readlines()\n",
    "    data_test = np.asarray([float(l.strip()) for l in lines])\n",
    "data_test[:5]"
   ],
   "metadata": {
    "collapsed": false,
    "pycharm": {
     "name": "#%%\n"
    }
   }
  },
  {
   "cell_type": "code",
   "execution_count": 32,
   "outputs": [],
   "source": [
    "y_test = data_test[3:]\n",
    "x_test = np.array([data_test[2:len(data_test)-1],data_test[1:len(data_test)-2],data_test[0:len(data_test)-3]])"
   ],
   "metadata": {
    "collapsed": false,
    "pycharm": {
     "name": "#%%\n"
    }
   }
  },
  {
   "cell_type": "code",
   "execution_count": 33,
   "outputs": [
    {
     "name": "stdout",
     "output_type": "stream",
     "text": [
      "RMSE for 2000 is 117.90844\n",
      "RMSE for 2001 is 54.63605\n"
     ]
    }
   ],
   "source": [
    "rmse_2000 = np.sqrt(((y_train - np.dot(a_mle.T,x_train)) ** 2).mean())\n",
    "rmse_2001 = np.sqrt(((y_test - np.dot(a_mle.T,x_test)) ** 2).mean())\n",
    "print('RMSE for 2000 is %.5f' % rmse_2000)\n",
    "print('RMSE for 2001 is %.5f' % rmse_2001)"
   ],
   "metadata": {
    "collapsed": false,
    "pycharm": {
     "name": "#%%\n"
    }
   }
  },
  {
   "cell_type": "code",
   "execution_count": 33,
   "outputs": [],
   "source": [],
   "metadata": {
    "collapsed": false,
    "pycharm": {
     "name": "#%%\n"
    }
   }
  }
 ],
 "metadata": {
  "kernelspec": {
   "display_name": "Python 3",
   "language": "python",
   "name": "python3"
  },
  "language_info": {
   "codemirror_mode": {
    "name": "ipython",
    "version": 2
   },
   "file_extension": ".py",
   "mimetype": "text/x-python",
   "name": "python",
   "nbconvert_exporter": "python",
   "pygments_lexer": "ipython2",
   "version": "2.7.6"
  }
 },
 "nbformat": 4,
 "nbformat_minor": 0
}