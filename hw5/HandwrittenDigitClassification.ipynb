{
 "cells": [
  {
   "cell_type": "markdown",
   "source": [
    "## 5.5 Handwritten digit classification"
   ],
   "metadata": {
    "collapsed": false
   }
  },
  {
   "cell_type": "markdown",
   "source": [
    "### (a) Training"
   ],
   "metadata": {
    "collapsed": false
   }
  },
  {
   "cell_type": "markdown",
   "source": [
    "I chose gradient ascent to perform the logistic regression.\n",
    "- learning rate: $\\eta=\\frac{0.2}{T}$\n",
    "- the fitting will stop whenever the chage in the log-likelihood is smaller than a given threshold (i.e. 0.0001)\n",
    "- Every 100 iterations, the fit function will print info including the current log-likelihood, error signal, error rate, etc"
   ],
   "metadata": {
    "collapsed": false,
    "pycharm": {
     "name": "#%% md\n"
    }
   }
  },
  {
   "cell_type": "code",
   "execution_count": 1,
   "outputs": [],
   "source": [
    "import numpy as np\n",
    "\n",
    "train3 = np.loadtxt('train3.txt', dtype=int)\n",
    "train5 = np.loadtxt('train5.txt', dtype=int)"
   ],
   "metadata": {
    "collapsed": false,
    "pycharm": {
     "name": "#%%\n"
    }
   }
  },
  {
   "cell_type": "code",
   "execution_count": 2,
   "outputs": [
    {
     "data": {
      "text/plain": "(700, 64)"
     },
     "execution_count": 2,
     "metadata": {},
     "output_type": "execute_result"
    }
   ],
   "source": [
    "train3.shape"
   ],
   "metadata": {
    "collapsed": false,
    "pycharm": {
     "name": "#%%\n"
    }
   }
  },
  {
   "cell_type": "code",
   "execution_count": 3,
   "outputs": [],
   "source": [
    "train3 = np.concatenate((train3, np.zeros(train3.shape[0])[:,np.newaxis]), axis=1)\n",
    "train5 = np.concatenate((train5, np.ones(train5.shape[0])[:,np.newaxis]), axis=1)"
   ],
   "metadata": {
    "collapsed": false,
    "pycharm": {
     "name": "#%%\n"
    }
   }
  },
  {
   "cell_type": "code",
   "execution_count": 4,
   "outputs": [
    {
     "data": {
      "text/plain": "(700, 65)"
     },
     "execution_count": 4,
     "metadata": {},
     "output_type": "execute_result"
    }
   ],
   "source": [
    "train3.shape"
   ],
   "metadata": {
    "collapsed": false,
    "pycharm": {
     "name": "#%%\n"
    }
   }
  },
  {
   "cell_type": "code",
   "execution_count": 5,
   "outputs": [
    {
     "data": {
      "text/plain": "(1400, 65)"
     },
     "execution_count": 5,
     "metadata": {},
     "output_type": "execute_result"
    }
   ],
   "source": [
    "train_set = np.concatenate((train3, train5))\n",
    "train_set.shape"
   ],
   "metadata": {
    "collapsed": false,
    "pycharm": {
     "name": "#%%\n"
    }
   }
  },
  {
   "cell_type": "code",
   "execution_count": 6,
   "outputs": [],
   "source": [
    "np.random.shuffle(train_set)\n",
    "X_train = train_set[:,:-1]\n",
    "y_train = train_set[:,-1:][:,0]"
   ],
   "metadata": {
    "collapsed": false,
    "pycharm": {
     "name": "#%%\n"
    }
   }
  },
  {
   "cell_type": "code",
   "execution_count": 7,
   "outputs": [
    {
     "data": {
      "text/plain": "(1400, 64)"
     },
     "execution_count": 7,
     "metadata": {},
     "output_type": "execute_result"
    }
   ],
   "source": [
    "X_train.shape"
   ],
   "metadata": {
    "collapsed": false,
    "pycharm": {
     "name": "#%%\n"
    }
   }
  },
  {
   "cell_type": "code",
   "execution_count": 8,
   "outputs": [
    {
     "data": {
      "text/plain": "(1400,)"
     },
     "execution_count": 8,
     "metadata": {},
     "output_type": "execute_result"
    }
   ],
   "source": [
    "y_train.shape"
   ],
   "metadata": {
    "collapsed": false,
    "pycharm": {
     "name": "#%%\n"
    }
   }
  },
  {
   "cell_type": "code",
   "execution_count": 9,
   "outputs": [],
   "source": [
    "def sigmoid(w, xt):\n",
    "    z = np.dot(w, xt)\n",
    "    return 1 / (1 + np.exp(-z))\n",
    "\n",
    "def log_likelihood(yt, sig):\n",
    "    return yt * np.log(sig) + (1-yt) * np.log((1-sig))\n",
    "\n",
    "def gradient(yt, w, xt):\n",
    "    # shape(d,1)\n",
    "    return (yt-sigmoid(w, xt)) * xt"
   ],
   "metadata": {
    "collapsed": false,
    "pycharm": {
     "name": "#%%\n"
    }
   }
  },
  {
   "cell_type": "code",
   "execution_count": 10,
   "outputs": [],
   "source": [
    "import math\n",
    "\n",
    "def fit(X, y, w, eta, threshold):\n",
    "    T = X.shape[0]\n",
    "    L = [] # log-likelihoods\n",
    "    ER = [] # error rates\n",
    "    ES = [] # error signals\n",
    "    diff_l = math.inf\n",
    "    counter = 0\n",
    "    while diff_l > threshold:\n",
    "        Lt = 0\n",
    "        dLt = np.zeros(len(w))\n",
    "        correctness = 0\n",
    "        error_signal = 0\n",
    "        for t in range(T):\n",
    "            sig = sigmoid(w, X[t])\n",
    "            Lt += log_likelihood(y[t], sig)\n",
    "            dLt += gradient(y[t], w, X[t])\n",
    "            error_signal += y[t] - sig\n",
    "            if sig > 0.5 and y[t] == 1 or sig < 0.5 and y[t] == 0:\n",
    "                correctness += 1\n",
    "        error_rate = (T - correctness) / (T * 1.0)\n",
    "        w += eta * dLt\n",
    "        if counter % 100 == 0:\n",
    "            print('iteration=%d\\tlog_likelihood=%.5f\\terror_signal=%.5f\\terror_rate=%.5f%%' % (counter, Lt, error_signal, error_rate * 100))\n",
    "        L.append(Lt)\n",
    "        ER.append(error_rate)\n",
    "        ES.append(error_signal)\n",
    "        if len(L) > 1:\n",
    "            diff_l = abs(L[-1]-L[-2])\n",
    "        counter += 1\n",
    "    return w, L, ER, ES"
   ],
   "metadata": {
    "collapsed": false,
    "pycharm": {
     "name": "#%%\n"
    }
   }
  },
  {
   "cell_type": "code",
   "execution_count": 11,
   "outputs": [
    {
     "name": "stdout",
     "output_type": "stream",
     "text": [
      "iteration=0\tlog_likelihood=-970.40605\terror_signal=0.00000\terror_rate=100.00000%\n",
      "iteration=100\tlog_likelihood=-296.25898\terror_signal=6.56854\terror_rate=5.92857%\n",
      "iteration=200\tlog_likelihood=-247.32210\terror_signal=5.63667\terror_rate=5.07143%\n",
      "iteration=300\tlog_likelihood=-226.47560\terror_signal=5.16408\terror_rate=5.00000%\n",
      "iteration=400\tlog_likelihood=-214.41210\terror_signal=4.83803\terror_rate=4.92857%\n",
      "iteration=500\tlog_likelihood=-206.36969\terror_signal=4.58698\terror_rate=4.85714%\n",
      "iteration=600\tlog_likelihood=-200.54279\terror_signal=4.38299\terror_rate=4.71429%\n",
      "iteration=700\tlog_likelihood=-196.08162\terror_signal=4.21188\terror_rate=4.42857%\n",
      "iteration=800\tlog_likelihood=-192.52916\terror_signal=4.06524\terror_rate=4.50000%\n",
      "iteration=900\tlog_likelihood=-189.61598\terror_signal=3.93762\terror_rate=4.42857%\n",
      "iteration=1000\tlog_likelihood=-187.17222\terror_signal=3.82522\terror_rate=4.28571%\n",
      "iteration=1100\tlog_likelihood=-185.08504\terror_signal=3.72526\terror_rate=4.28571%\n",
      "iteration=1200\tlog_likelihood=-183.27632\terror_signal=3.63563\terror_rate=4.14286%\n",
      "iteration=1300\tlog_likelihood=-181.69011\terror_signal=3.55472\terror_rate=4.14286%\n",
      "iteration=1400\tlog_likelihood=-180.28517\terror_signal=3.48123\terror_rate=4.14286%\n",
      "iteration=1500\tlog_likelihood=-179.03034\terror_signal=3.41413\terror_rate=4.14286%\n",
      "iteration=1600\tlog_likelihood=-177.90159\terror_signal=3.35256\terror_rate=4.14286%\n",
      "iteration=1700\tlog_likelihood=-176.88004\terror_signal=3.29582\terror_rate=4.07143%\n",
      "iteration=1800\tlog_likelihood=-175.95062\terror_signal=3.24334\terror_rate=4.07143%\n",
      "iteration=1900\tlog_likelihood=-175.10109\terror_signal=3.19461\terror_rate=4.07143%\n",
      "iteration=2000\tlog_likelihood=-174.32143\terror_signal=3.14923\terror_rate=4.00000%\n",
      "iteration=2100\tlog_likelihood=-173.60331\terror_signal=3.10683\terror_rate=3.92857%\n",
      "iteration=2200\tlog_likelihood=-172.93974\terror_signal=3.06712\terror_rate=3.92857%\n",
      "iteration=2300\tlog_likelihood=-172.32481\terror_signal=3.02982\terror_rate=3.92857%\n",
      "iteration=2400\tlog_likelihood=-171.75347\terror_signal=2.99472\terror_rate=3.92857%\n",
      "iteration=2500\tlog_likelihood=-171.22137\terror_signal=2.96162\terror_rate=4.00000%\n",
      "iteration=2600\tlog_likelihood=-170.72473\terror_signal=2.93033\terror_rate=4.00000%\n",
      "iteration=2700\tlog_likelihood=-170.26029\terror_signal=2.90071\terror_rate=3.92857%\n",
      "iteration=2800\tlog_likelihood=-169.82516\terror_signal=2.87262\terror_rate=3.92857%\n",
      "iteration=2900\tlog_likelihood=-169.41681\terror_signal=2.84594\terror_rate=3.92857%\n",
      "iteration=3000\tlog_likelihood=-169.03297\terror_signal=2.82057\terror_rate=3.92857%\n",
      "iteration=3100\tlog_likelihood=-168.67167\terror_signal=2.79640\terror_rate=3.92857%\n",
      "iteration=3200\tlog_likelihood=-168.33112\terror_signal=2.77335\terror_rate=3.92857%\n",
      "iteration=3300\tlog_likelihood=-168.00970\terror_signal=2.75134\terror_rate=4.00000%\n",
      "iteration=3400\tlog_likelihood=-167.70600\terror_signal=2.73030\terror_rate=3.92857%\n",
      "iteration=3500\tlog_likelihood=-167.41870\terror_signal=2.71017\terror_rate=3.92857%\n",
      "iteration=3600\tlog_likelihood=-167.14664\terror_signal=2.69088\terror_rate=3.85714%\n",
      "iteration=3700\tlog_likelihood=-166.88875\terror_signal=2.67240\terror_rate=3.78571%\n",
      "iteration=3800\tlog_likelihood=-166.64406\terror_signal=2.65466\terror_rate=3.78571%\n",
      "iteration=3900\tlog_likelihood=-166.41169\terror_signal=2.63762\terror_rate=3.78571%\n",
      "iteration=4000\tlog_likelihood=-166.19083\terror_signal=2.62125\terror_rate=3.78571%\n",
      "iteration=4100\tlog_likelihood=-165.98075\terror_signal=2.60550\terror_rate=3.85714%\n",
      "iteration=4200\tlog_likelihood=-165.78075\terror_signal=2.59034\terror_rate=3.85714%\n",
      "iteration=4300\tlog_likelihood=-165.59022\terror_signal=2.57573\terror_rate=3.85714%\n",
      "iteration=4400\tlog_likelihood=-165.40859\terror_signal=2.56166\terror_rate=3.78571%\n",
      "iteration=4500\tlog_likelihood=-165.23532\terror_signal=2.54808\terror_rate=3.78571%\n",
      "iteration=4600\tlog_likelihood=-165.06992\terror_signal=2.53498\terror_rate=3.78571%\n",
      "iteration=4700\tlog_likelihood=-164.91194\terror_signal=2.52233\terror_rate=3.78571%\n",
      "iteration=4800\tlog_likelihood=-164.76095\terror_signal=2.51011\terror_rate=3.78571%\n",
      "iteration=4900\tlog_likelihood=-164.61658\terror_signal=2.49830\terror_rate=3.71429%\n",
      "iteration=5000\tlog_likelihood=-164.47845\terror_signal=2.48688\terror_rate=3.64286%\n",
      "iteration=5100\tlog_likelihood=-164.34622\terror_signal=2.47583\terror_rate=3.64286%\n",
      "iteration=5200\tlog_likelihood=-164.21959\terror_signal=2.46513\terror_rate=3.64286%\n",
      "iteration=5300\tlog_likelihood=-164.09825\terror_signal=2.45476\terror_rate=3.64286%\n",
      "iteration=5400\tlog_likelihood=-163.98193\terror_signal=2.44472\terror_rate=3.64286%\n",
      "iteration=5500\tlog_likelihood=-163.87038\terror_signal=2.43499\terror_rate=3.64286%\n",
      "iteration=5600\tlog_likelihood=-163.76335\terror_signal=2.42556\terror_rate=3.71429%\n",
      "iteration=5700\tlog_likelihood=-163.66062\terror_signal=2.41640\terror_rate=3.64286%\n",
      "iteration=5800\tlog_likelihood=-163.56197\terror_signal=2.40752\terror_rate=3.64286%\n",
      "iteration=5900\tlog_likelihood=-163.46721\terror_signal=2.39890\terror_rate=3.64286%\n",
      "iteration=6000\tlog_likelihood=-163.37616\terror_signal=2.39053\terror_rate=3.71429%\n",
      "iteration=6100\tlog_likelihood=-163.28863\terror_signal=2.38239\terror_rate=3.78571%\n",
      "iteration=6200\tlog_likelihood=-163.20446\terror_signal=2.37449\terror_rate=3.78571%\n",
      "iteration=6300\tlog_likelihood=-163.12349\terror_signal=2.36681\terror_rate=3.78571%\n",
      "iteration=6400\tlog_likelihood=-163.04557\terror_signal=2.35934\terror_rate=3.85714%\n",
      "iteration=6500\tlog_likelihood=-162.97058\terror_signal=2.35207\terror_rate=3.85714%\n",
      "iteration=6600\tlog_likelihood=-162.89837\terror_signal=2.34500\terror_rate=3.85714%\n",
      "iteration=6700\tlog_likelihood=-162.82882\terror_signal=2.33812\terror_rate=3.85714%\n",
      "iteration=6800\tlog_likelihood=-162.76182\terror_signal=2.33143\terror_rate=3.85714%\n",
      "iteration=6900\tlog_likelihood=-162.69725\terror_signal=2.32491\terror_rate=3.85714%\n",
      "iteration=7000\tlog_likelihood=-162.63502\terror_signal=2.31855\terror_rate=3.85714%\n",
      "iteration=7100\tlog_likelihood=-162.57500\terror_signal=2.31237\terror_rate=3.85714%\n",
      "iteration=7200\tlog_likelihood=-162.51713\terror_signal=2.30634\terror_rate=3.85714%\n",
      "iteration=7300\tlog_likelihood=-162.46130\terror_signal=2.30046\terror_rate=3.85714%\n",
      "iteration=7400\tlog_likelihood=-162.40742\terror_signal=2.29474\terror_rate=3.85714%\n",
      "iteration=7500\tlog_likelihood=-162.35543\terror_signal=2.28915\terror_rate=3.85714%\n",
      "iteration=7600\tlog_likelihood=-162.30524\terror_signal=2.28370\terror_rate=3.85714%\n",
      "iteration=7700\tlog_likelihood=-162.25677\terror_signal=2.27839\terror_rate=3.85714%\n",
      "iteration=7800\tlog_likelihood=-162.20996\terror_signal=2.27320\terror_rate=3.85714%\n",
      "iteration=7900\tlog_likelihood=-162.16475\terror_signal=2.26814\terror_rate=3.85714%\n",
      "iteration=8000\tlog_likelihood=-162.12106\terror_signal=2.26320\terror_rate=3.85714%\n",
      "iteration=8100\tlog_likelihood=-162.07885\terror_signal=2.25838\terror_rate=3.85714%\n",
      "iteration=8200\tlog_likelihood=-162.03804\terror_signal=2.25367\terror_rate=3.85714%\n",
      "iteration=8300\tlog_likelihood=-161.99859\terror_signal=2.24907\terror_rate=3.85714%\n",
      "iteration=8400\tlog_likelihood=-161.96045\terror_signal=2.24457\terror_rate=3.85714%\n",
      "iteration=8500\tlog_likelihood=-161.92356\terror_signal=2.24018\terror_rate=3.85714%\n",
      "iteration=8600\tlog_likelihood=-161.88788\terror_signal=2.23589\terror_rate=3.85714%\n",
      "iteration=8700\tlog_likelihood=-161.85336\terror_signal=2.23170\terror_rate=3.85714%\n",
      "iteration=8800\tlog_likelihood=-161.81995\terror_signal=2.22760\terror_rate=3.85714%\n",
      "iteration=8900\tlog_likelihood=-161.78763\terror_signal=2.22359\terror_rate=3.85714%\n",
      "iteration=9000\tlog_likelihood=-161.75634\terror_signal=2.21968\terror_rate=3.85714%\n",
      "iteration=9100\tlog_likelihood=-161.72604\terror_signal=2.21584\terror_rate=3.85714%\n",
      "iteration=9200\tlog_likelihood=-161.69671\terror_signal=2.21209\terror_rate=3.85714%\n",
      "iteration=9300\tlog_likelihood=-161.66831\terror_signal=2.20843\terror_rate=3.85714%\n",
      "iteration=9400\tlog_likelihood=-161.64080\terror_signal=2.20484\terror_rate=3.85714%\n",
      "iteration=9500\tlog_likelihood=-161.61416\terror_signal=2.20133\terror_rate=3.78571%\n",
      "iteration=9600\tlog_likelihood=-161.58834\terror_signal=2.19789\terror_rate=3.78571%\n",
      "iteration=9700\tlog_likelihood=-161.56333\terror_signal=2.19453\terror_rate=3.78571%\n",
      "iteration=9800\tlog_likelihood=-161.53909\terror_signal=2.19123\terror_rate=3.78571%\n",
      "iteration=9900\tlog_likelihood=-161.51559\terror_signal=2.18801\terror_rate=3.78571%\n",
      "iteration=10000\tlog_likelihood=-161.49282\terror_signal=2.18485\terror_rate=3.78571%\n",
      "iteration=10100\tlog_likelihood=-161.47074\terror_signal=2.18176\terror_rate=3.78571%\n",
      "iteration=10200\tlog_likelihood=-161.44934\terror_signal=2.17873\terror_rate=3.78571%\n",
      "iteration=10300\tlog_likelihood=-161.42858\terror_signal=2.17577\terror_rate=3.78571%\n",
      "iteration=10400\tlog_likelihood=-161.40845\terror_signal=2.17286\terror_rate=3.78571%\n",
      "iteration=10500\tlog_likelihood=-161.38892\terror_signal=2.17001\terror_rate=3.78571%\n",
      "iteration=10600\tlog_likelihood=-161.36998\terror_signal=2.16722\terror_rate=3.78571%\n",
      "iteration=10700\tlog_likelihood=-161.35160\terror_signal=2.16448\terror_rate=3.78571%\n",
      "iteration=10800\tlog_likelihood=-161.33377\terror_signal=2.16180\terror_rate=3.78571%\n",
      "iteration=10900\tlog_likelihood=-161.31647\terror_signal=2.15917\terror_rate=3.78571%\n",
      "iteration=11000\tlog_likelihood=-161.29968\terror_signal=2.15660\terror_rate=3.78571%\n",
      "iteration=11100\tlog_likelihood=-161.28339\terror_signal=2.15407\terror_rate=3.78571%\n",
      "iteration=11200\tlog_likelihood=-161.26757\terror_signal=2.15159\terror_rate=3.78571%\n",
      "iteration=11300\tlog_likelihood=-161.25221\terror_signal=2.14916\terror_rate=3.71429%\n",
      "iteration=11400\tlog_likelihood=-161.23730\terror_signal=2.14678\terror_rate=3.71429%\n",
      "iteration=11500\tlog_likelihood=-161.22282\terror_signal=2.14444\terror_rate=3.71429%\n",
      "iteration=11600\tlog_likelihood=-161.20876\terror_signal=2.14215\terror_rate=3.71429%\n",
      "iteration=11700\tlog_likelihood=-161.19511\terror_signal=2.13990\terror_rate=3.71429%\n",
      "iteration=11800\tlog_likelihood=-161.18185\terror_signal=2.13769\terror_rate=3.71429%\n",
      "iteration=11900\tlog_likelihood=-161.16897\terror_signal=2.13553\terror_rate=3.71429%\n",
      "iteration=12000\tlog_likelihood=-161.15646\terror_signal=2.13340\terror_rate=3.71429%\n",
      "iteration=12100\tlog_likelihood=-161.14430\terror_signal=2.13131\terror_rate=3.71429%\n",
      "iteration=12200\tlog_likelihood=-161.13249\terror_signal=2.12927\terror_rate=3.71429%\n",
      "iteration=12300\tlog_likelihood=-161.12101\terror_signal=2.12726\terror_rate=3.71429%\n",
      "iteration=12400\tlog_likelihood=-161.10986\terror_signal=2.12528\terror_rate=3.71429%\n",
      "iteration=12500\tlog_likelihood=-161.09902\terror_signal=2.12335\terror_rate=3.71429%\n",
      "iteration=12600\tlog_likelihood=-161.08848\terror_signal=2.12144\terror_rate=3.71429%\n",
      "iteration=12700\tlog_likelihood=-161.07824\terror_signal=2.11957\terror_rate=3.71429%\n"
     ]
    }
   ],
   "source": [
    "T = X_train.shape[0]\n",
    "w = np.zeros(X_train.shape[1])\n",
    "w, L, ER, ES = fit(X_train, y_train, w, 0.2 / T, 0.0001)"
   ],
   "metadata": {
    "collapsed": false,
    "pycharm": {
     "name": "#%%\n"
    }
   }
  },
  {
   "cell_type": "code",
   "execution_count": 12,
   "outputs": [
    {
     "data": {
      "text/plain": "0.037142857142857144"
     },
     "execution_count": 12,
     "metadata": {},
     "output_type": "execute_result"
    }
   ],
   "source": [
    "ER[-1]"
   ],
   "metadata": {
    "collapsed": false,
    "pycharm": {
     "name": "#%%\n"
    }
   }
  },
  {
   "cell_type": "code",
   "execution_count": 13,
   "outputs": [
    {
     "data": {
      "text/plain": "Text(0, 0.5, 'Log-likelihood')"
     },
     "execution_count": 13,
     "metadata": {},
     "output_type": "execute_result"
    },
    {
     "data": {
      "text/plain": "<Figure size 432x288 with 1 Axes>",
      "image/png": "[encoded data removed]"
     },
     "metadata": {
      "needs_background": "light"
     },
     "output_type": "display_data"
    }
   ],
   "source": [
    "import matplotlib.pyplot as plt\n",
    "plt.plot(L)\n",
    "plt.xlabel(\"iteration (t)\")\n",
    "plt.ylabel(\"Log-likelihood\")"
   ],
   "metadata": {
    "collapsed": false,
    "pycharm": {
     "name": "#%%\n"
    }
   }
  },
  {
   "cell_type": "code",
   "execution_count": 14,
   "outputs": [
    {
     "data": {
      "text/plain": "Text(0, 0.5, 'Error Rate')"
     },
     "execution_count": 14,
     "metadata": {},
     "output_type": "execute_result"
    },
    {
     "data": {
      "text/plain": "<Figure size 432x288 with 1 Axes>",
      "image/png": "[encoded data removed]"
     },
     "metadata": {
      "needs_background": "light"
     },
     "output_type": "display_data"
    }
   ],
   "source": [
    "plt.plot(ER)\n",
    "plt.xlabel(\"iteration (t)\")\n",
    "plt.ylabel(\"Error Rate\")"
   ],
   "metadata": {
    "collapsed": false,
    "pycharm": {
     "name": "#%%\n"
    }
   }
  },
  {
   "cell_type": "code",
   "execution_count": 15,
   "outputs": [
    {
     "data": {
      "text/plain": "Text(0, 0.5, 'Error Signal')"
     },
     "execution_count": 15,
     "metadata": {},
     "output_type": "execute_result"
    },
    {
     "data": {
      "text/plain": "<Figure size 432x288 with 1 Axes>",
      "image/png": "[encoded data removed]"
     },
     "metadata": {
      "needs_background": "light"
     },
     "output_type": "display_data"
    }
   ],
   "source": [
    "plt.plot(ES)\n",
    "plt.xlabel(\"iteration (t)\")\n",
    "plt.ylabel(\"Error Signal\")"
   ],
   "metadata": {
    "collapsed": false,
    "pycharm": {
     "name": "#%%\n"
    }
   }
  },
  {
   "cell_type": "code",
   "execution_count": 16,
   "outputs": [
    {
     "name": "stdout",
     "output_type": "stream",
     "text": [
      "[[-0.81488 -1.63752 -1.14416 -1.38995 -0.65703 -1.05923  0.80218  1.88387]\n",
      " [-0.13666 -0.212    0.29423 -0.05451 -0.58342  0.90508 -1.42126 -1.42321]\n",
      " [ 4.09766  1.37746  1.54752  0.12786  0.90158 -2.29681 -2.43497 -2.78626]\n",
      " [ 0.75863  0.3623   0.73162 -0.35726 -0.48146 -2.61852  0.48784 -0.04934]\n",
      " [ 0.60163  1.24063  0.0827  -0.42278 -0.6466  -0.07539 -0.59596 -0.15237]\n",
      " [ 1.274   -0.26285 -0.38533 -0.19161  0.00638 -1.06615  0.96447 -1.74971]\n",
      " [ 1.62842 -0.73411  1.37208  0.67173  0.51117 -0.43045  0.15526 -1.53144]\n",
      " [ 0.67236  0.30753  0.89343  2.3278   0.47037  0.69581  0.82975 -0.5645 ]]\n"
     ]
    }
   ],
   "source": [
    "w_print = np.round(np.split(w, 8), 5)\n",
    "print(w_print)"
   ],
   "metadata": {
    "collapsed": false,
    "pycharm": {
     "name": "#%%\n"
    }
   }
  },
  {
   "cell_type": "markdown",
   "source": [
    "### (b) Testing"
   ],
   "metadata": {
    "collapsed": false,
    "pycharm": {
     "name": "#%% md\n"
    }
   }
  },
  {
   "cell_type": "code",
   "execution_count": 17,
   "outputs": [],
   "source": [
    "test3 = np.loadtxt('test3.txt', dtype=int)\n",
    "test5 = np.loadtxt('test5.txt', dtype=int)\n",
    "test3 = np.concatenate((test3, np.zeros(test3.shape[0])[:,np.newaxis]), axis=1)\n",
    "test5 = np.concatenate((test5, np.ones(test5.shape[0])[:,np.newaxis]), axis=1)\n",
    "test_set = np.concatenate((train3, train5))"
   ],
   "metadata": {
    "collapsed": false,
    "pycharm": {
     "name": "#%%\n"
    }
   }
  },
  {
   "cell_type": "code",
   "execution_count": 18,
   "outputs": [],
   "source": [
    "X_test = test_set[:,:-1]\n",
    "y_test = test_set[:,-1:][:,0]"
   ],
   "metadata": {
    "collapsed": false,
    "pycharm": {
     "name": "#%%\n"
    }
   }
  },
  {
   "cell_type": "code",
   "execution_count": 19,
   "outputs": [],
   "source": [
    "def predict(X, w):\n",
    "    return [1 if sigmoid(w,X[t]) > 0.5 else 0 for t in range(X.shape[0])]\n",
    "\n",
    "pred = predict(X_test, w)"
   ],
   "metadata": {
    "collapsed": false,
    "pycharm": {
     "name": "#%%\n"
    }
   }
  },
  {
   "cell_type": "code",
   "execution_count": 20,
   "outputs": [
    {
     "name": "stdout",
     "output_type": "stream",
     "text": [
      "The percent error rate is 3.71429%\n"
     ]
    }
   ],
   "source": [
    "correctness = 0\n",
    "for t in range(len(pred)):\n",
    "    if pred[t] == y_test[t]:\n",
    "        correctness += 1\n",
    "error_rate = (len(pred) - correctness) / (len(pred) * 1.0)\n",
    "print('The percent error rate is %.5f%%' % (error_rate * 100))"
   ],
   "metadata": {
    "collapsed": false,
    "pycharm": {
     "name": "#%%\n"
    }
   }
  },
  {
   "cell_type": "code",
   "execution_count": 20,
   "outputs": [],
   "source": [],
   "metadata": {
    "collapsed": false,
    "pycharm": {
     "name": "#%%\n"
    }
   }
  }
 ],
 "metadata": {
  "kernelspec": {
   "display_name": "Python 3",
   "language": "python",
   "name": "python3"
  },
  "language_info": {
   "codemirror_mode": {
    "name": "ipython",
    "version": 2
   },
   "file_extension": ".py",
   "mimetype": "text/x-python",
   "name": "python",
   "nbconvert_exporter": "python",
   "pygments_lexer": "ipython2",
   "version": "2.7.6"
  }
 },
 "nbformat": 4,
 "nbformat_minor": 0
}