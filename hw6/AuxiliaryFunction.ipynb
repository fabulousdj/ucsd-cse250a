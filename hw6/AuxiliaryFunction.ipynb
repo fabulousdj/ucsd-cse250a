{
 "cells": [
  {
   "cell_type": "markdown",
   "metadata": {
    "collapsed": true,
    "pycharm": {
     "name": "#%% md\n"
    }
   },
   "source": [
    "## 6.4 Auxiliary function"
   ]
  },
  {
   "cell_type": "markdown",
   "source": [
    "### (f)"
   ],
   "metadata": {
    "collapsed": false
   }
  },
  {
   "cell_type": "code",
   "execution_count": 47,
   "outputs": [],
   "source": [
    "import math\n",
    "\n",
    "def update_e(xn):\n",
    "    return xn - math.tanh(xn)"
   ],
   "metadata": {
    "collapsed": false,
    "pycharm": {
     "name": "#%%\n"
    }
   }
  },
  {
   "cell_type": "code",
   "execution_count": 69,
   "outputs": [],
   "source": [
    "import matplotlib.pyplot as pl\n",
    "\n",
    "def show_convergence(init_x, update_rule, threshold=0):\n",
    "    x = [init_x]\n",
    "    diff = math.inf\n",
    "    counter = 1\n",
    "    while diff > threshold:\n",
    "        old_x = x[-1]\n",
    "        new_x = update_rule(old_x)\n",
    "        print('iteration=%d\\tnew_x=%f\\told_x=%f' % (counter, new_x, old_x))\n",
    "        diff = abs(new_x - old_x)\n",
    "        x.append(new_x)\n",
    "        counter += 1\n",
    "    pl.title('Convergence Graph with X0=%.2f' % init_x)\n",
    "    pl.xlabel(\"n\")\n",
    "    pl.ylabel(\"Xn\")\n",
    "    pl.plot(x)"
   ],
   "metadata": {
    "collapsed": false,
    "pycharm": {
     "name": "#%%\n"
    }
   }
  },
  {
   "cell_type": "code",
   "execution_count": 70,
   "outputs": [
    {
     "name": "stdout",
     "output_type": "stream",
     "text": [
      "iteration=1\tnew_x=-1.035972\told_x=-2.000000\n",
      "iteration=2\tnew_x=-0.259680\told_x=-1.035972\n",
      "iteration=3\tnew_x=-0.005684\told_x=-0.259680\n",
      "iteration=4\tnew_x=-0.000000\told_x=-0.005684\n",
      "iteration=5\tnew_x=-0.000000\told_x=-0.000000\n",
      "iteration=6\tnew_x=0.000000\told_x=-0.000000\n",
      "iteration=7\tnew_x=0.000000\told_x=0.000000\n"
     ]
    },
    {
     "data": {
      "text/plain": "<Figure size 432x288 with 1 Axes>",
      "image/png": "[encoded data removed]"
     },
     "metadata": {
      "needs_background": "light"
     },
     "output_type": "display_data"
    }
   ],
   "source": [
    "show_convergence(-2, update_e)"
   ],
   "metadata": {
    "collapsed": false,
    "pycharm": {
     "name": "#%%\n"
    }
   }
  },
  {
   "cell_type": "code",
   "execution_count": 71,
   "outputs": [
    {
     "name": "stdout",
     "output_type": "stream",
     "text": [
      "iteration=1\tnew_x=2.004945\told_x=3.000000\n",
      "iteration=2\tnew_x=1.040570\told_x=2.004945\n",
      "iteration=3\tnew_x=0.262457\told_x=1.040570\n",
      "iteration=4\tnew_x=0.005865\told_x=0.262457\n",
      "iteration=5\tnew_x=0.000000\told_x=0.005865\n",
      "iteration=6\tnew_x=0.000000\told_x=0.000000\n",
      "iteration=7\tnew_x=0.000000\told_x=0.000000\n",
      "iteration=8\tnew_x=0.000000\told_x=0.000000\n"
     ]
    },
    {
     "data": {
      "text/plain": "<Figure size 432x288 with 1 Axes>",
      "image/png": "[encoded data removed]"
     },
     "metadata": {
      "needs_background": "light"
     },
     "output_type": "display_data"
    }
   ],
   "source": [
    "show_convergence(3, update_e)"
   ],
   "metadata": {
    "collapsed": false,
    "pycharm": {
     "name": "#%%\n"
    }
   }
  },
  {
   "cell_type": "markdown",
   "source": [
    "### (g)"
   ],
   "metadata": {
    "collapsed": false,
    "pycharm": {
     "name": "#%% md\n"
    }
   }
  },
  {
   "cell_type": "code",
   "execution_count": 72,
   "outputs": [],
   "source": [
    "def update_g(xn):\n",
    "    tanh = math.tanh(xn)\n",
    "    return xn - tanh / (1-tanh**2)"
   ],
   "metadata": {
    "collapsed": false,
    "pycharm": {
     "name": "#%%\n"
    }
   }
  },
  {
   "cell_type": "code",
   "execution_count": 73,
   "outputs": [
    {
     "name": "stdout",
     "output_type": "stream",
     "text": [
      "iteration=1\tnew_x=-11.644959\told_x=2.000000\n",
      "iteration=2\tnew_x=3255537298.567099\told_x=-11.644959\n"
     ]
    },
    {
     "ename": "ZeroDivisionError",
     "evalue": "float division by zero",
     "output_type": "error",
     "traceback": [
      "\u001B[0;31m---------------------------------------------------------------------------\u001B[0m",
      "\u001B[0;31mZeroDivisionError\u001B[0m                         Traceback (most recent call last)",
      "\u001B[0;32m/var/folders/jj/st19g0h11dj2btjtztczv4bc0000gn/T/ipykernel_47485/3592204862.py\u001B[0m in \u001B[0;36m<module>\u001B[0;34m\u001B[0m\n\u001B[0;32m----> 1\u001B[0;31m \u001B[0mshow_convergence\u001B[0m\u001B[0;34m(\u001B[0m\u001B[0;36m2\u001B[0m\u001B[0;34m,\u001B[0m \u001B[0mupdate_g\u001B[0m\u001B[0;34m)\u001B[0m\u001B[0;34m\u001B[0m\u001B[0;34m\u001B[0m\u001B[0m\n\u001B[0m",
      "\u001B[0;32m/var/folders/jj/st19g0h11dj2btjtztczv4bc0000gn/T/ipykernel_47485/3077378598.py\u001B[0m in \u001B[0;36mshow_convergence\u001B[0;34m(init_x, update_rule, threshold)\u001B[0m\n\u001B[1;32m      7\u001B[0m     \u001B[0;32mwhile\u001B[0m \u001B[0mdiff\u001B[0m \u001B[0;34m>\u001B[0m \u001B[0mthreshold\u001B[0m\u001B[0;34m:\u001B[0m\u001B[0;34m\u001B[0m\u001B[0;34m\u001B[0m\u001B[0m\n\u001B[1;32m      8\u001B[0m         \u001B[0mold_x\u001B[0m \u001B[0;34m=\u001B[0m \u001B[0mx\u001B[0m\u001B[0;34m[\u001B[0m\u001B[0;34m-\u001B[0m\u001B[0;36m1\u001B[0m\u001B[0;34m]\u001B[0m\u001B[0;34m\u001B[0m\u001B[0;34m\u001B[0m\u001B[0m\n\u001B[0;32m----> 9\u001B[0;31m         \u001B[0mnew_x\u001B[0m \u001B[0;34m=\u001B[0m \u001B[0mupdate_rule\u001B[0m\u001B[0;34m(\u001B[0m\u001B[0mold_x\u001B[0m\u001B[0;34m)\u001B[0m\u001B[0;34m\u001B[0m\u001B[0;34m\u001B[0m\u001B[0m\n\u001B[0m\u001B[1;32m     10\u001B[0m         \u001B[0mprint\u001B[0m\u001B[0;34m(\u001B[0m\u001B[0;34m'iteration=%d\\tnew_x=%f\\told_x=%f'\u001B[0m \u001B[0;34m%\u001B[0m \u001B[0;34m(\u001B[0m\u001B[0mcounter\u001B[0m\u001B[0;34m,\u001B[0m \u001B[0mnew_x\u001B[0m\u001B[0;34m,\u001B[0m \u001B[0mold_x\u001B[0m\u001B[0;34m)\u001B[0m\u001B[0;34m)\u001B[0m\u001B[0;34m\u001B[0m\u001B[0;34m\u001B[0m\u001B[0m\n\u001B[1;32m     11\u001B[0m         \u001B[0mdiff\u001B[0m \u001B[0;34m=\u001B[0m \u001B[0mabs\u001B[0m\u001B[0;34m(\u001B[0m\u001B[0mnew_x\u001B[0m \u001B[0;34m-\u001B[0m \u001B[0mold_x\u001B[0m\u001B[0;34m)\u001B[0m\u001B[0;34m\u001B[0m\u001B[0;34m\u001B[0m\u001B[0m\n",
      "\u001B[0;32m/var/folders/jj/st19g0h11dj2btjtztczv4bc0000gn/T/ipykernel_47485/885111938.py\u001B[0m in \u001B[0;36mupdate_g\u001B[0;34m(xn)\u001B[0m\n\u001B[1;32m      1\u001B[0m \u001B[0;32mdef\u001B[0m \u001B[0mupdate_g\u001B[0m\u001B[0;34m(\u001B[0m\u001B[0mxn\u001B[0m\u001B[0;34m)\u001B[0m\u001B[0;34m:\u001B[0m\u001B[0;34m\u001B[0m\u001B[0;34m\u001B[0m\u001B[0m\n\u001B[1;32m      2\u001B[0m     \u001B[0mtanh\u001B[0m \u001B[0;34m=\u001B[0m \u001B[0mmath\u001B[0m\u001B[0;34m.\u001B[0m\u001B[0mtanh\u001B[0m\u001B[0;34m(\u001B[0m\u001B[0mxn\u001B[0m\u001B[0;34m)\u001B[0m\u001B[0;34m\u001B[0m\u001B[0;34m\u001B[0m\u001B[0m\n\u001B[0;32m----> 3\u001B[0;31m     \u001B[0;32mreturn\u001B[0m \u001B[0mxn\u001B[0m \u001B[0;34m-\u001B[0m \u001B[0mtanh\u001B[0m \u001B[0;34m/\u001B[0m \u001B[0;34m(\u001B[0m\u001B[0;36m1\u001B[0m\u001B[0;34m-\u001B[0m\u001B[0mtanh\u001B[0m\u001B[0;34m**\u001B[0m\u001B[0;36m2\u001B[0m\u001B[0;34m)\u001B[0m\u001B[0;34m\u001B[0m\u001B[0;34m\u001B[0m\u001B[0m\n\u001B[0m",
      "\u001B[0;31mZeroDivisionError\u001B[0m: float division by zero"
     ]
    }
   ],
   "source": [
    "show_convergence(2, update_g)"
   ],
   "metadata": {
    "collapsed": false,
    "pycharm": {
     "name": "#%%\n"
    }
   }
  },
  {
   "cell_type": "markdown",
   "source": [
    "The above function errors out because at the second iteration, $x_2$ becomes too large and hence the denominator becomes 0 (due to float value precision in python)."
   ],
   "metadata": {
    "collapsed": false,
    "pycharm": {
     "name": "#%% md\n"
    }
   }
  },
  {
   "cell_type": "markdown",
   "source": [
    "Let's set $0.465005 < x < 1.06223$."
   ],
   "metadata": {
    "collapsed": false
   }
  },
  {
   "cell_type": "code",
   "execution_count": 74,
   "outputs": [
    {
     "name": "stdout",
     "output_type": "stream",
     "text": [
      "iteration=1\tnew_x=-0.087601\told_x=0.500000\n",
      "iteration=2\tnew_x=0.000449\told_x=-0.087601\n",
      "iteration=3\tnew_x=-0.000000\told_x=0.000449\n",
      "iteration=4\tnew_x=0.000000\told_x=-0.000000\n",
      "iteration=5\tnew_x=0.000000\told_x=0.000000\n"
     ]
    },
    {
     "data": {
      "text/plain": "<Figure size 432x288 with 1 Axes>",
      "image/png": "[encoded data removed]"
     },
     "metadata": {
      "needs_background": "light"
     },
     "output_type": "display_data"
    }
   ],
   "source": [
    "show_convergence(0.5, update_g)"
   ],
   "metadata": {
    "collapsed": false,
    "pycharm": {
     "name": "#%%\n"
    }
   }
  },
  {
   "cell_type": "markdown",
   "source": [
    "### (k)"
   ],
   "metadata": {
    "collapsed": false,
    "pycharm": {
     "name": "#%% md\n"
    }
   }
  },
  {
   "cell_type": "code",
   "execution_count": 75,
   "outputs": [],
   "source": [
    "def update_j(xn):\n",
    "    return xn - sum([math.tanh(xn+(2/math.sqrt(k))) for k in range(1, 10)]) / 10"
   ],
   "metadata": {
    "collapsed": false,
    "pycharm": {
     "name": "#%%\n"
    }
   }
  },
  {
   "cell_type": "code",
   "execution_count": 76,
   "outputs": [
    {
     "name": "stdout",
     "output_type": "stream",
     "text": [
      "iteration=1\tnew_x=-1.381534\told_x=-2.000000\n",
      "iteration=2\tnew_x=-1.109076\told_x=-1.381534\n",
      "iteration=3\tnew_x=-1.040321\told_x=-1.109076\n",
      "iteration=4\tnew_x=-1.025774\told_x=-1.040321\n",
      "iteration=5\tnew_x=-1.022768\told_x=-1.025774\n",
      "iteration=6\tnew_x=-1.022149\told_x=-1.022768\n",
      "iteration=7\tnew_x=-1.022021\told_x=-1.022149\n",
      "iteration=8\tnew_x=-1.021995\told_x=-1.022021\n"
     ]
    },
    {
     "data": {
      "text/plain": "<Figure size 432x288 with 1 Axes>",
      "image/png": "[encoded data removed]"
     },
     "metadata": {
      "needs_background": "light"
     },
     "output_type": "display_data"
    }
   ],
   "source": [
    "show_convergence(-2, update_j, threshold=1e-4)"
   ],
   "metadata": {
    "collapsed": false,
    "pycharm": {
     "name": "#%%\n"
    }
   }
  },
  {
   "cell_type": "code",
   "execution_count": 77,
   "outputs": [
    {
     "name": "stdout",
     "output_type": "stream",
     "text": [
      "iteration=1\tnew_x=2.100695\told_x=3.000000\n",
      "iteration=2\tnew_x=1.204881\told_x=2.100695\n",
      "iteration=3\tnew_x=0.329631\told_x=1.204881\n",
      "iteration=4\tnew_x=-0.438623\told_x=0.329631\n",
      "iteration=5\tnew_x=-0.875747\told_x=-0.438623\n",
      "iteration=6\tnew_x=-0.992100\told_x=-0.875747\n",
      "iteration=7\tnew_x=-1.015869\told_x=-0.992100\n",
      "iteration=8\tnew_x=-1.020731\told_x=-1.015869\n",
      "iteration=9\tnew_x=-1.021730\told_x=-1.020731\n",
      "iteration=10\tnew_x=-1.021935\told_x=-1.021730\n",
      "iteration=11\tnew_x=-1.021978\told_x=-1.021935\n"
     ]
    },
    {
     "data": {
      "text/plain": "<Figure size 432x288 with 1 Axes>",
      "image/png": "[encoded data removed]"
     },
     "metadata": {
      "needs_background": "light"
     },
     "output_type": "display_data"
    }
   ],
   "source": [
    "show_convergence(3, update_j, threshold=1e-4)"
   ],
   "metadata": {
    "collapsed": false,
    "pycharm": {
     "name": "#%%\n"
    }
   }
  },
  {
   "cell_type": "markdown",
   "source": [
    "$x_n$ converges to $-1.0219$ as shown above. Therefore we can use $x=-1.0219$ to compute the minimum of $g(x)$."
   ],
   "metadata": {
    "collapsed": false,
    "pycharm": {
     "name": "#%% md\n"
    }
   }
  },
  {
   "cell_type": "code",
   "execution_count": 78,
   "outputs": [],
   "source": [
    "def g(x):\n",
    "    return sum([math.log(math.cosh(x+(2/math.sqrt(k)))) for k in range(1, 10)]) / 10"
   ],
   "metadata": {
    "collapsed": false,
    "pycharm": {
     "name": "#%%\n"
    }
   }
  },
  {
   "cell_type": "code",
   "execution_count": 79,
   "outputs": [
    {
     "name": "stdout",
     "output_type": "stream",
     "text": [
      "The minimum of g(x) is 0.067587 attained at x=-1.0219\n"
     ]
    }
   ],
   "source": [
    "print('The minimum of g(x) is %f attained at x=-1.0219' % g(-1.0219))"
   ],
   "metadata": {
    "collapsed": false,
    "pycharm": {
     "name": "#%%\n"
    }
   }
  },
  {
   "cell_type": "code",
   "execution_count": null,
   "outputs": [],
   "source": [],
   "metadata": {
    "collapsed": false,
    "pycharm": {
     "name": "#%%\n"
    }
   }
  }
 ],
 "metadata": {
  "kernelspec": {
   "display_name": "Python 3",
   "language": "python",
   "name": "python3"
  },
  "language_info": {
   "codemirror_mode": {
    "name": "ipython",
    "version": 2
   },
   "file_extension": ".py",
   "mimetype": "text/x-python",
   "name": "python",
   "nbconvert_exporter": "python",
   "pygments_lexer": "ipython2",
   "version": "2.7.6"
  }
 },
 "nbformat": 4,
 "nbformat_minor": 0
}