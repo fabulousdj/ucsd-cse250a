{
 "cells": [
  {
   "cell_type": "markdown",
   "metadata": {
    "collapsed": true,
    "pycharm": {
     "name": "#%% md\n"
    }
   },
   "source": [
    "## 6.3 EM algorithm for noisy-OR"
   ]
  },
  {
   "cell_type": "markdown",
   "source": [
    "### (d)"
   ],
   "metadata": {
    "collapsed": false
   }
  },
  {
   "cell_type": "code",
   "execution_count": 23,
   "outputs": [],
   "source": [
    "import csv\n",
    "import numpy as np"
   ],
   "metadata": {
    "collapsed": false,
    "pycharm": {
     "name": "#%%\n"
    }
   }
  },
  {
   "cell_type": "code",
   "execution_count": 27,
   "outputs": [],
   "source": [
    "X = np.loadtxt('noisyOrX.txt', dtype=int)\n",
    "Y = np.loadtxt('noisyOrY.txt', dtype=int)"
   ],
   "metadata": {
    "collapsed": false,
    "pycharm": {
     "name": "#%%\n"
    }
   }
  },
  {
   "cell_type": "code",
   "execution_count": 28,
   "outputs": [
    {
     "data": {
      "text/plain": "array([[0, 0, 0, 1, 0, 0, 0, 1, 1, 0, 0, 0, 1, 1, 0, 0, 0, 0, 0, 0, 0, 0,\n        1],\n       [0, 0, 1, 1, 0, 0, 0, 1, 1, 0, 0, 0, 1, 1, 0, 0, 0, 0, 0, 0, 0, 1,\n        1]])"
     },
     "execution_count": 28,
     "metadata": {},
     "output_type": "execute_result"
    }
   ],
   "source": [
    "X[:2]"
   ],
   "metadata": {
    "collapsed": false,
    "pycharm": {
     "name": "#%%\n"
    }
   }
  },
  {
   "cell_type": "code",
   "execution_count": 53,
   "outputs": [
    {
     "data": {
      "text/plain": "1"
     },
     "execution_count": 53,
     "metadata": {},
     "output_type": "execute_result"
    }
   ],
   "source": [
    "Y[:2]"
   ],
   "metadata": {
    "collapsed": false,
    "pycharm": {
     "name": "#%%\n"
    }
   }
  },
  {
   "cell_type": "code",
   "execution_count": 60,
   "outputs": [],
   "source": [
    "def update(p, X, Y):\n",
    "    tmp = np.zeros(23)\n",
    "    T = np.zeros(23)\n",
    "    for t in range(len(X)):\n",
    "        denom = 1 - np.prod(np.power(1-p, X[t]))\n",
    "        tmp += Y[t] * X[t] * p / denom\n",
    "        T += (X[t]==1)\n",
    "    return tmp / T"
   ],
   "metadata": {
    "collapsed": false,
    "pycharm": {
     "name": "#%%\n"
    }
   }
  },
  {
   "cell_type": "code",
   "execution_count": 65,
   "outputs": [],
   "source": [
    "def log_likelihood(p, X, Y):\n",
    "    sum = 0\n",
    "    for t in range(len(X)):\n",
    "        tmp = 1 - np.prod(np.power(1-p, X[t])) if Y[t] == 1 else np.prod(np.power(1-p, X[t]))\n",
    "        sum += np.log(tmp)\n",
    "    return sum / len(X)\n",
    "\n",
    "def compute_mistakes(p, X, Y):\n",
    "    m_count = 0\n",
    "    for t in range(len(X)):\n",
    "        # p(yt=1|xt)\n",
    "        tmp = 1 - np.prod(np.power(1-p, X[t]))\n",
    "        if (Y[t] == 0 and tmp >= 0.5) or (Y[t] == 1 and tmp <= 0.5):\n",
    "            m_count += 1\n",
    "    return m_count"
   ],
   "metadata": {
    "collapsed": false,
    "pycharm": {
     "name": "#%%\n"
    }
   }
  },
  {
   "cell_type": "code",
   "execution_count": 67,
   "outputs": [
    {
     "name": "stdout",
     "output_type": "stream",
     "text": [
      "iteration=0, number of mistakes=175, log likelihood=-0.95809\n",
      "iteration=1, number of mistakes=56, log likelihood=-0.49592\n",
      "iteration=2, number of mistakes=43, log likelihood=-0.40822\n",
      "iteration=4, number of mistakes=42, log likelihood=-0.36461\n",
      "iteration=8, number of mistakes=44, log likelihood=-0.34750\n",
      "iteration=16, number of mistakes=40, log likelihood=-0.33462\n",
      "iteration=32, number of mistakes=37, log likelihood=-0.32258\n",
      "iteration=64, number of mistakes=37, log likelihood=-0.31483\n",
      "iteration=128, number of mistakes=36, log likelihood=-0.31116\n",
      "iteration=256, number of mistakes=36, log likelihood=-0.31016\n"
     ]
    }
   ],
   "source": [
    "p = np.full(23, 0.05)\n",
    "print_i = 1\n",
    "for i in range(257):\n",
    "    m = compute_mistakes(p, X, Y)\n",
    "    l = log_likelihood(p, X, Y)\n",
    "    p = update(p, X, Y)\n",
    "    if i == 0 or i == print_i:\n",
    "        print('iteration=%d, number of mistakes=%d, log likelihood=%.5f' % (i, m, l))\n",
    "        if i == print_i: print_i *= 2"
   ],
   "metadata": {
    "collapsed": false,
    "pycharm": {
     "name": "#%%\n"
    }
   }
  },
  {
   "cell_type": "code",
   "execution_count": null,
   "outputs": [],
   "source": [],
   "metadata": {
    "collapsed": false,
    "pycharm": {
     "name": "#%%\n"
    }
   }
  }
 ],
 "metadata": {
  "kernelspec": {
   "display_name": "Python 3",
   "language": "python",
   "name": "python3"
  },
  "language_info": {
   "codemirror_mode": {
    "name": "ipython",
    "version": 2
   },
   "file_extension": ".py",
   "mimetype": "text/x-python",
   "name": "python",
   "nbconvert_exporter": "python",
   "pygments_lexer": "ipython2",
   "version": "2.7.6"
  }
 },
 "nbformat": 4,
 "nbformat_minor": 0
}