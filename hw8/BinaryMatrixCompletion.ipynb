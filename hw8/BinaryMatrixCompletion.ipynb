{
 "cells": [
  {
   "cell_type": "markdown",
   "metadata": {
    "collapsed": true,
    "pycharm": {
     "name": "#%% md\n"
    }
   },
   "source": [
    "## 8.1 EM algorithm for binary matrix completion"
   ]
  },
  {
   "cell_type": "markdown",
   "source": [
    "### (a)"
   ],
   "metadata": {
    "collapsed": false
   }
  },
  {
   "cell_type": "code",
   "execution_count": 1,
   "outputs": [],
   "source": [
    "import numpy as np\n",
    "from tabulate import tabulate"
   ],
   "metadata": {
    "collapsed": false,
    "pycharm": {
     "name": "#%%\n"
    }
   }
  },
  {
   "cell_type": "code",
   "execution_count": 2,
   "outputs": [
    {
     "data": {
      "text/plain": "76"
     },
     "execution_count": 2,
     "metadata": {},
     "output_type": "execute_result"
    }
   ],
   "source": [
    "movies = np.loadtxt('hw8_movies.txt', dtype=str)\n",
    "len(movies)"
   ],
   "metadata": {
    "collapsed": false,
    "pycharm": {
     "name": "#%%\n"
    }
   }
  },
  {
   "cell_type": "code",
   "execution_count": 3,
   "outputs": [
    {
     "data": {
      "text/plain": "76"
     },
     "execution_count": 3,
     "metadata": {},
     "output_type": "execute_result"
    }
   ],
   "source": [
    "# compute movie to idx dict\n",
    "movieIdxDict = {movies[i] : i for i in range(len(movies))}\n",
    "len(movieIdxDict)"
   ],
   "metadata": {
    "collapsed": false,
    "pycharm": {
     "name": "#%%\n"
    }
   }
  },
  {
   "cell_type": "code",
   "execution_count": 4,
   "outputs": [
    {
     "data": {
      "text/plain": "362"
     },
     "execution_count": 4,
     "metadata": {},
     "output_type": "execute_result"
    }
   ],
   "source": [
    "ids = np.loadtxt('hw8_ids.txt', delimiter='\\n', dtype=str)\n",
    "len(ids)"
   ],
   "metadata": {
    "collapsed": false,
    "pycharm": {
     "name": "#%%\n"
    }
   }
  },
  {
   "cell_type": "code",
   "execution_count": 5,
   "outputs": [
    {
     "data": {
      "text/plain": "362"
     },
     "execution_count": 5,
     "metadata": {},
     "output_type": "execute_result"
    }
   ],
   "source": [
    "# compute id to idx dict\n",
    "idIdxDict = {ids[i] : i for i in range(len(ids))}\n",
    "len(idIdxDict)"
   ],
   "metadata": {
    "collapsed": false,
    "pycharm": {
     "name": "#%%\n"
    }
   }
  },
  {
   "cell_type": "code",
   "execution_count": 6,
   "outputs": [
    {
     "data": {
      "text/plain": "(362, 76)"
     },
     "execution_count": 6,
     "metadata": {},
     "output_type": "execute_result"
    }
   ],
   "source": [
    "ratings = np.loadtxt('hw8_ratings.txt', dtype=str)\n",
    "ratings.shape"
   ],
   "metadata": {
    "collapsed": false,
    "pycharm": {
     "name": "#%%\n"
    }
   }
  },
  {
   "cell_type": "code",
   "execution_count": 7,
   "outputs": [],
   "source": [
    "meanPopRatingsPerMovie = []\n",
    "for movie in movies:\n",
    "    mi = movieIdxDict[movie]\n",
    "    recCount = 0\n",
    "    seenCount = 0\n",
    "    for si in range(len(ids)):\n",
    "        if ratings[si,mi] != '?':\n",
    "            seenCount += 1\n",
    "            if ratings[si, mi] == '1':\n",
    "                recCount += 1\n",
    "    meanPopRatingsPerMovie.append((100 * recCount / seenCount, movie))"
   ],
   "metadata": {
    "collapsed": false,
    "pycharm": {
     "name": "#%%\n"
    }
   }
  },
  {
   "cell_type": "code",
   "execution_count": 8,
   "outputs": [
    {
     "name": "stdout",
     "output_type": "stream",
     "text": [
      "  Rec(%)  Title\n",
      "--------  --------------------------------------------\n",
      "35.89744  I_Feel_Pretty\n",
      "37.71429  Fifty_Shades_of_Grey\n",
      "45.65217  Hustlers\n",
      "47.36842  The_Last_Airbender\n",
      "51.51515  Magic_Mike\n",
      "54.05405  Fast_&_Furious:_Hobbs_&_Shaw\n",
      "55.84416  The_Shape_of_Water\n",
      "58.40708  Prometheus\n",
      "58.62069  Phantom_Thread\n",
      "58.95522  World_War_Z\n",
      "59.35829  Star_Wars:_The_Force_Awakens\n",
      "59.67742  Rocketman\n",
      "60.00000  Chappaquidick\n",
      "61.90476  Bridemaids\n",
      "62.42775  Man_of_Steel\n",
      "62.82051  American_Hustle\n",
      "63.88889  Terminator:_Dark_Fate\n",
      "65.15152  Room\n",
      "65.62500  Good_Boys\n",
      "65.66265  Pokemon_Detective_Pikachu\n",
      "65.88235  Fast_Five\n",
      "67.83217  Mad_Max:_Fury_Road\n",
      "69.01408  Drive\n",
      "70.00000  Us\n",
      "70.68966  The_Help\n",
      "72.00000  Pitch_Perfect\n",
      "72.09302  Jurassic_World\n",
      "72.41379  Frozen\n",
      "73.60406  X-Men:_First_Class\n",
      "73.63636  The_Revenant\n",
      "73.91304  Ex_Machina\n",
      "74.24242  Avengers:_Age_of_Ultron\n",
      "75.47170  La_La_Land\n",
      "75.60976  Midnight_in_Paris\n",
      "76.36364  Manchester_by_the_Sea\n",
      "76.85950  Once_Upon_a_Time_in_Hollywood\n",
      "77.41935  Three_Billboards_Outside_Ebbing\n",
      "78.48101  Darkest_Hour\n",
      "78.64078  The_Great_Gatsby\n",
      "78.68852  Dunkirk\n",
      "78.88889  Her\n",
      "79.13669  Captain_America:_The_First_Avenger\n",
      "79.31034  The_Girls_with_the_Dragon_Tattoo\n",
      "79.73856  Ready_Player_One\n",
      "79.74684  Hidden_Figures\n",
      "80.00000  The_Hateful_Eight\n",
      "80.31496  Thor\n",
      "80.33473  Toy_Story_3\n",
      "81.48148  The_Hunger_Games\n",
      "81.63265  12_Years_a_Slave\n",
      "81.78694  Iron_Man_2\n",
      "81.98198  The_Perks_of_Being_a_Wallflower\n",
      "82.40000  Joker\n",
      "82.50000  Les_Miserables\n",
      "82.53968  21_Jump_Street\n",
      "82.71605  Spiderman:_Far_From_Home\n",
      "82.97872  Black_Swan\n",
      "83.63636  Parasite\n",
      "84.36482  The_Avengers\n",
      "86.04651  The_Farewell\n",
      "86.39456  Django_Unchained\n",
      "86.49789  Now_You_See_Me\n",
      "86.81319  Avengers:_Endgame\n",
      "87.85714  Avengers:_Infinity_War\n",
      "89.16667  Wolf_of_Wall_Street\n",
      "89.43662  The_Lion_King\n",
      "89.44099  Gone_Girl\n",
      "90.06623  Harry_Potter_and_the_Deathly_Hallows:_Part_1\n",
      "90.16393  The_Social_Network\n",
      "91.78082  Harry_Potter_and_the_Deathly_Hallows:_Part_2\n",
      "91.95402  The_Theory_of_Everything\n",
      "93.85666  Interstellar\n",
      "93.93939  The_Martian\n",
      "94.16342  The_Dark_Knight_Rises\n",
      "94.44444  Shutter_Island\n",
      "96.57534  Inception\n"
     ]
    }
   ],
   "source": [
    "meanPopRatingsPerMovie.sort()\n",
    "print(tabulate(meanPopRatingsPerMovie, headers=['Rec(%)', 'Title'], floatfmt='.5f'))"
   ],
   "metadata": {
    "collapsed": false,
    "pycharm": {
     "name": "#%%\n"
    }
   }
  },
  {
   "cell_type": "markdown",
   "source": [
    "### (e)"
   ],
   "metadata": {
    "collapsed": false,
    "pycharm": {
     "name": "#%% md\n"
    }
   }
  },
  {
   "cell_type": "code",
   "source": [
    "probR = np.loadtxt('hw8_probR_init.txt')\n",
    "probR.shape"
   ],
   "metadata": {
    "collapsed": false,
    "pycharm": {
     "name": "#%%\n"
    }
   },
   "execution_count": 9,
   "outputs": [
    {
     "data": {
      "text/plain": "(76, 4)"
     },
     "execution_count": 9,
     "metadata": {},
     "output_type": "execute_result"
    }
   ]
  },
  {
   "cell_type": "code",
   "execution_count": 10,
   "outputs": [
    {
     "data": {
      "text/plain": "array([0.25, 0.25, 0.25, 0.25])"
     },
     "execution_count": 10,
     "metadata": {},
     "output_type": "execute_result"
    }
   ],
   "source": [
    "probZ = np.loadtxt('hw8_probZ_init.txt')\n",
    "probZ"
   ],
   "metadata": {
    "collapsed": false,
    "pycharm": {
     "name": "#%%\n"
    }
   }
  },
  {
   "cell_type": "code",
   "execution_count": 11,
   "outputs": [],
   "source": [
    "k = 4 # number of movie-goer types\n",
    "N = len(movies) # number of movies\n",
    "T = len(ids) # number of students"
   ],
   "metadata": {
    "collapsed": false,
    "pycharm": {
     "name": "#%%\n"
    }
   }
  },
  {
   "cell_type": "code",
   "execution_count": 12,
   "outputs": [],
   "source": [
    "def estep_num(i, t, pz, pr, ratings):\n",
    "    j_rec, = np.where(ratings[t,:] == '1')\n",
    "    j_notrec, = np.where(ratings[t,:] == '0')\n",
    "    numer = pz[i] * np.prod(pr[j_rec,i]) * np.prod(1-pr[j_notrec,i])\n",
    "    return numer\n",
    "\n",
    "def estep_denom(t, pz, priors, ratings):\n",
    "    denom = 0\n",
    "    j_rec, = np.where(ratings[t,:] == '1')\n",
    "    j_notrec, = np.where(ratings[t,:] == '0')\n",
    "    for i in range(k):\n",
    "        denom += pz[i]*np.prod(priors[j_rec,i])*np.prod(1-priors[j_notrec,i])\n",
    "    return denom\n",
    "\n",
    "def e_step(pz, pr, ratings):\n",
    "    L = 0\n",
    "    posteriors = np.empty([k,T], dtype='float32')\n",
    "    for t in range(T):\n",
    "        L += np.log(log_likelihood(t, pz, pr, ratings))\n",
    "        e_denom = estep_denom(t, pz, pr, ratings)\n",
    "        # e-step - update posteriors\n",
    "        for i in range(k):\n",
    "            posteriors[i,t] = estep_num(i, t, pz, pr, ratings) / e_denom\n",
    "    L /= T\n",
    "    return L, posteriors\n",
    "\n",
    "def mstep_prz(i, j, posteriors, priors, ratings):\n",
    "    # sum over students who recommended movie j (I(r_j,1))\n",
    "    t_seen, = np.where(ratings[:,j] == '1')\n",
    "    numer_seen = np.sum(posteriors[i,t_seen])\n",
    "    # sum over students who have not seen movie j\n",
    "    t_unseen, = np.where(ratings[:,j] == '?')\n",
    "    numer_unseen = priors[j,i]*np.sum(posteriors[i,t_unseen])\n",
    "    return numer_seen+numer_unseen\n",
    "\n",
    "def m_step(posteriors, pr):\n",
    "    pz_new = np.empty(4)\n",
    "    pr_new = np.empty([T, k])\n",
    "    for i in range(k):\n",
    "        temp = np.sum(posteriors[i,:])\n",
    "        pz_new[i] = temp/T\n",
    "        for j in range(N):\n",
    "            pr_new[j,i] = mstep_prz(i, j, posteriors, pr, ratings) / temp\n",
    "    return pz_new, pr_new\n",
    "\n",
    "def log_likelihood(t, pz, priors, ratings):\n",
    "    log_li = 0\n",
    "    for i in range(k):\n",
    "        j_rec, = np.where(ratings[t,:] == '1')\n",
    "        j_notrec, = np.where(ratings[t,:] == '0')\n",
    "        log_li += pz[i]*np.prod(priors[j_rec,i])*np.prod(1-priors[j_notrec,i])\n",
    "    return log_li"
   ],
   "metadata": {
    "collapsed": false,
    "pycharm": {
     "name": "#%%\n"
    }
   }
  },
  {
   "cell_type": "code",
   "execution_count": 13,
   "outputs": [
    {
     "name": "stdout",
     "output_type": "stream",
     "text": [
      "iteration: 0 \t log-likelihood L = -27.0358\n",
      "iteration: 1 \t log-likelihood L = -17.5604\n",
      "iteration: 2 \t log-likelihood L = -16.0024\n",
      "iteration: 4 \t log-likelihood L = -15.0606\n",
      "iteration: 8 \t log-likelihood L = -14.5016\n",
      "iteration: 16 \t log-likelihood L = -14.2638\n",
      "iteration: 32 \t log-likelihood L = -14.1802\n",
      "iteration: 64 \t log-likelihood L = -14.1701\n",
      "iteration: 128 \t log-likelihood L = -14.1640\n",
      "iteration: 256 \t log-likelihood L = -14.1637\n"
     ]
    }
   ],
   "source": [
    "print_itr = 1\n",
    "posteriors = np.empty([k,T], dtype='float32')\n",
    "for iteration in range(256+1):\n",
    "    L, posteriors = e_step(probZ, probR, ratings)\n",
    "    probZ, probR = m_step(posteriors, probR)\n",
    "    if iteration == 0 or iteration == print_itr:\n",
    "        print('iteration: %d \\t log-likelihood L = %.4f' % (iteration, L))\n",
    "        if iteration == print_itr: print_itr *= 2"
   ],
   "metadata": {
    "collapsed": false,
    "pycharm": {
     "name": "#%%\n"
    }
   }
  },
  {
   "cell_type": "markdown",
   "source": [
    "### (f)"
   ],
   "metadata": {
    "collapsed": false,
    "pycharm": {
     "name": "#%% md\n"
    }
   }
  },
  {
   "cell_type": "code",
   "execution_count": 14,
   "outputs": [
    {
     "name": "stdout",
     "output_type": "stream",
     "text": [
      "My Ratings:\n",
      "Movie                                         Rating\n",
      "--------------------------------------------  --------\n",
      "Inception                                     1\n",
      "The_Social_Network                            1\n",
      "Black_Swan                                    ?\n",
      "Shutter_Island                                ?\n",
      "The_Last_Airbender                            0\n",
      "Harry_Potter_and_the_Deathly_Hallows:_Part_1  1\n",
      "Iron_Man_2                                    0\n",
      "Toy_Story_3                                   1\n",
      "Fast_Five                                     ?\n",
      "Thor                                          1\n",
      "Captain_America:_The_First_Avenger            1\n",
      "Harry_Potter_and_the_Deathly_Hallows:_Part_2  1\n",
      "Bridemaids                                    ?\n",
      "The_Girls_with_the_Dragon_Tattoo              ?\n",
      "X-Men:_First_Class                            ?\n",
      "Drive                                         ?\n",
      "The_Help                                      ?\n",
      "Midnight_in_Paris                             1\n",
      "Prometheus                                    1\n",
      "The_Perks_of_Being_a_Wallflower               1\n",
      "The_Avengers                                  1\n",
      "The_Dark_Knight_Rises                         1\n",
      "The_Hunger_Games                              1\n",
      "Django_Unchained                              ?\n",
      "Pitch_Perfect                                 ?\n",
      "Les_Miserables                                1\n",
      "21_Jump_Street                                ?\n",
      "Magic_Mike                                    ?\n",
      "Wolf_of_Wall_Street                           1\n",
      "The_Great_Gatsby                              1\n",
      "Frozen                                        1\n",
      "Now_You_See_Me                                ?\n",
      "Her                                           1\n",
      "12_Years_a_Slave                              ?\n",
      "World_War_Z                                   1\n",
      "American_Hustle                               ?\n",
      "Man_of_Steel                                  0\n",
      "Gone_Girl                                     1\n",
      "Ex_Machina                                    1\n",
      "Interstellar                                  1\n",
      "The_Theory_of_Everything                      1\n",
      "Star_Wars:_The_Force_Awakens                  0\n",
      "Mad_Max:_Fury_Road                            1\n",
      "Jurassic_World                                1\n",
      "Fifty_Shades_of_Grey                          0\n",
      "Avengers:_Age_of_Ultron                       0\n",
      "Room                                          ?\n",
      "The_Martian                                   1\n",
      "The_Hateful_Eight                             ?\n",
      "The_Revenant                                  ?\n",
      "Avengers:_Infinity_War                        1\n",
      "Ready_Player_One                              1\n",
      "I_Feel_Pretty                                 ?\n",
      "Chappaquidick                                 ?\n",
      "La_La_Land                                    1\n",
      "Hidden_Figures                                1\n",
      "Manchester_by_the_Sea                         0\n",
      "The_Shape_of_Water                            0\n",
      "Dunkirk                                       0\n",
      "Three_Billboards_Outside_Ebbing               1\n",
      "Phantom_Thread                                ?\n",
      "Darkest_Hour                                  1\n",
      "Avengers:_Endgame                             1\n",
      "Once_Upon_a_Time_in_Hollywood                 1\n",
      "Spiderman:_Far_From_Home                      1\n",
      "The_Lion_King                                 1\n",
      "Rocketman                                     ?\n",
      "Joker                                         1\n",
      "Fast_&_Furious:_Hobbs_&_Shaw                  0\n",
      "The_Farewell                                  ?\n",
      "Parasite                                      1\n",
      "Good_Boys                                     ?\n",
      "Us                                            ?\n",
      "Pokemon_Detective_Pikachu                     ?\n",
      "Hustlers                                      ?\n",
      "Terminator:_Dark_Fate                         0\n"
     ]
    }
   ],
   "source": [
    "PID = 'A92408103'\n",
    "myIdx = idIdxDict[PID]\n",
    "myRatings = ratings[myIdx,:]\n",
    "print('My Ratings:')\n",
    "print(tabulate(np.column_stack((movies, myRatings)), headers=['Movie', 'Rating']))"
   ],
   "metadata": {
    "collapsed": false,
    "pycharm": {
     "name": "#%%\n"
    }
   }
  },
  {
   "cell_type": "code",
   "execution_count": 15,
   "outputs": [
    {
     "data": {
      "text/plain": "array(['Black_Swan', 'Shutter_Island', 'Fast_Five', 'Bridemaids',\n       'The_Girls_with_the_Dragon_Tattoo', 'X-Men:_First_Class', 'Drive',\n       'The_Help', 'Django_Unchained', 'Pitch_Perfect', '21_Jump_Street',\n       'Magic_Mike', 'Now_You_See_Me', '12_Years_a_Slave',\n       'American_Hustle', 'Room', 'The_Hateful_Eight', 'The_Revenant',\n       'I_Feel_Pretty', 'Chappaquidick', 'Phantom_Thread', 'Rocketman',\n       'The_Farewell', 'Good_Boys', 'Us', 'Pokemon_Detective_Pikachu',\n       'Hustlers'], dtype='<U44')"
     },
     "execution_count": 15,
     "metadata": {},
     "output_type": "execute_result"
    }
   ],
   "source": [
    "unseen, = np.where(myRatings == '?')\n",
    "unseen = movies[unseen]\n",
    "unseen"
   ],
   "metadata": {
    "collapsed": false,
    "pycharm": {
     "name": "#%%\n"
    }
   }
  },
  {
   "cell_type": "code",
   "execution_count": 16,
   "outputs": [
    {
     "data": {
      "text/plain": "array([ 1.6173378e-04,  9.9983829e-01,  0.0000000e+00, -3.3353604e-08],\n      dtype=float32)"
     },
     "execution_count": 16,
     "metadata": {},
     "output_type": "execute_result"
    }
   ],
   "source": [
    "posteriors[:,idIdxDict[PID]]"
   ],
   "metadata": {
    "collapsed": false,
    "pycharm": {
     "name": "#%%\n"
    }
   }
  },
  {
   "cell_type": "code",
   "execution_count": 17,
   "outputs": [
    {
     "name": "stdout",
     "output_type": "stream",
     "text": [
      "  Expected Rating  Unseen Movie\n",
      "-----------------  --------------------------------\n",
      "         0.999986  The_Farewell\n",
      "         0.898581  The_Hateful_Eight\n",
      "         0.896749  Black_Swan\n",
      "         0.89264   The_Revenant\n",
      "         0.889808  Shutter_Island\n",
      "         0.886514  Django_Unchained\n",
      "         0.858479  Drive\n",
      "         0.849043  12_Years_a_Slave\n",
      "         0.828579  The_Girls_with_the_Dragon_Tattoo\n",
      "         0.775531  Room\n",
      "         0.738154  21_Jump_Street\n",
      "         0.729265  The_Help\n",
      "         0.695902  Us\n",
      "         0.6674    I_Feel_Pretty\n",
      "         0.665514  Bridemaids\n",
      "         0.653227  Now_You_See_Me\n",
      "         0.637099  Pitch_Perfect\n",
      "         0.626004  X-Men:_First_Class\n",
      "         0.620568  Rocketman\n",
      "         0.610027  Phantom_Thread\n",
      "         0.607726  Pokemon_Detective_Pikachu\n",
      "         0.527355  Magic_Mike\n",
      "         0.506522  Hustlers\n",
      "         0.499898  Chappaquidick\n",
      "         0.444657  Fast_Five\n",
      "         0.396266  American_Hustle\n",
      "         0.338861  Good_Boys\n"
     ]
    }
   ],
   "source": [
    "unseenRatings = []\n",
    "for movie in unseen:\n",
    "    movieIdx = movieIdxDict[movie]\n",
    "    pr = np.dot(probR[movieIdx,:], posteriors[:, myIdx])\n",
    "    unseenRatings.append((pr, movie))\n",
    "unseenRatings.sort()\n",
    "unseenRatings.reverse()\n",
    "print(tabulate(unseenRatings, headers=['Expected Rating', 'Unseen Movie']))"
   ],
   "metadata": {
    "collapsed": false,
    "pycharm": {
     "name": "#%%\n"
    }
   }
  },
  {
   "cell_type": "code",
   "execution_count": 17,
   "outputs": [],
   "source": [],
   "metadata": {
    "collapsed": false,
    "pycharm": {
     "name": "#%%\n"
    }
   }
  }
 ],
 "metadata": {
  "kernelspec": {
   "display_name": "Python 3",
   "language": "python",
   "name": "python3"
  },
  "language_info": {
   "codemirror_mode": {
    "name": "ipython",
    "version": 2
   },
   "file_extension": ".py",
   "mimetype": "text/x-python",
   "name": "python",
   "nbconvert_exporter": "python",
   "pygments_lexer": "ipython2",
   "version": "2.7.6"
  }
 },
 "nbformat": 4,
 "nbformat_minor": 0
}