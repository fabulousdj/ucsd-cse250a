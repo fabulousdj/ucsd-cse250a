{
 "cells": [
  {
   "cell_type": "code",
   "execution_count": 35,
   "metadata": {
    "collapsed": true
   },
   "outputs": [],
   "source": [
    "import numpy as np"
   ]
  },
  {
   "cell_type": "code",
   "execution_count": 36,
   "outputs": [],
   "source": [
    "S_COUNT = 81\n",
    "A_COUNT = 4\n",
    "GAMMA = 0.9925"
   ],
   "metadata": {
    "collapsed": false,
    "pycharm": {
     "name": "#%%\n"
    }
   }
  },
  {
   "cell_type": "code",
   "execution_count": 37,
   "outputs": [],
   "source": [
    "def parse(file_name):\n",
    "    # s, s', p(s'|s,a)\n",
    "    f = np.loadtxt(file_name)\n",
    "    trans_mtx = np.zeros([S_COUNT, S_COUNT])\n",
    "    for line in f:\n",
    "        s, s_, p = int(line[0])-1, int(line[1])-1, float(line[2])\n",
    "        trans_mtx[s, s_] = p\n",
    "    return trans_mtx"
   ],
   "metadata": {
    "collapsed": false,
    "pycharm": {
     "name": "#%%\n"
    }
   }
  },
  {
   "cell_type": "code",
   "execution_count": 38,
   "outputs": [],
   "source": [
    "prob_a1 = parse('prob_a1.txt')\n",
    "prob_a2 = parse('prob_a2.txt')\n",
    "prob_a3 = parse('prob_a3.txt')\n",
    "prob_a4 = parse('prob_a4.txt')\n",
    "rewards = np.loadtxt('rewards.txt')"
   ],
   "metadata": {
    "collapsed": false,
    "pycharm": {
     "name": "#%%\n"
    }
   }
  },
  {
   "cell_type": "markdown",
   "source": [
    "## (a) Policy Iteration"
   ],
   "metadata": {
    "collapsed": false,
    "pycharm": {
     "name": "#%% md\n"
    }
   }
  },
  {
   "cell_type": "code",
   "execution_count": 39,
   "outputs": [],
   "source": [
    "trans_matrices = [prob_a1, prob_a2, prob_a3, prob_a4]"
   ],
   "metadata": {
    "collapsed": false,
    "pycharm": {
     "name": "#%%\n"
    }
   }
  },
  {
   "cell_type": "code",
   "execution_count": 40,
   "outputs": [
    {
     "data": {
      "text/plain": "(81,)"
     },
     "execution_count": 40,
     "metadata": {},
     "output_type": "execute_result"
    }
   ],
   "source": [
    "# init policy at random\n",
    "policy = np.random.randint(low=0,high=A_COUNT, size=S_COUNT)\n",
    "policy.shape"
   ],
   "metadata": {
    "collapsed": false,
    "pycharm": {
     "name": "#%%\n"
    }
   }
  },
  {
   "cell_type": "code",
   "execution_count": 41,
   "outputs": [],
   "source": [
    "def policy_eval(policy, trans_matrices, rewards):\n",
    "    # construct p_pi\n",
    "    p_pi = np.zeros((S_COUNT, S_COUNT))\n",
    "    for i in range(S_COUNT):\n",
    "        p_pi[i] = trans_matrices[policy[i]][i]\n",
    "    v_pi = np.linalg.inv(np.identity(S_COUNT) - GAMMA * p_pi).dot(rewards)\n",
    "    return v_pi"
   ],
   "metadata": {
    "collapsed": false,
    "pycharm": {
     "name": "#%%\n"
    }
   }
  },
  {
   "cell_type": "code",
   "execution_count": 42,
   "outputs": [],
   "source": [
    "def policy_improvement(policy, trans_matrices, v_pi):\n",
    "    new_policy = np.copy(policy)\n",
    "    for s in range(S_COUNT):\n",
    "        tmp = np.zeros(A_COUNT)\n",
    "        for s_ in range(S_COUNT):\n",
    "            for i in range(A_COUNT):\n",
    "                tmp[i] += trans_matrices[i][s, s_] * v_pi[s_]\n",
    "        new_policy[s] = np.argmax(tmp)\n",
    "    return new_policy"
   ],
   "metadata": {
    "collapsed": false,
    "pycharm": {
     "name": "#%%\n"
    }
   }
  },
  {
   "cell_type": "code",
   "execution_count": 43,
   "outputs": [],
   "source": [
    "v_pi = np.ones(S_COUNT)\n",
    "v_pi_prev = np.zeros(S_COUNT)\n",
    "counter = 0\n",
    "while max(abs(v_pi - v_pi_prev)) > 0.000001:\n",
    "    v_pi_prev = np.copy(v_pi)\n",
    "    v_pi = policy_eval(policy, trans_matrices, rewards)\n",
    "    policy = policy_improvement(policy, trans_matrices, v_pi)\n",
    "    counter += 1"
   ],
   "metadata": {
    "collapsed": false,
    "pycharm": {
     "name": "#%%\n"
    }
   }
  },
  {
   "cell_type": "code",
   "execution_count": 46,
   "outputs": [
    {
     "name": "stdout",
     "output_type": "stream",
     "text": [
      "-------  -------  -------  -------  -------  ---------  --------  ---------  -------\n",
      "  0        0        0        0        0         0         0          0         0\n",
      "  0      102.375  103.235  104.101    0      -133.333    81.3995  -133.333     0\n",
      "100.701  101.524    0      104.975  103.781    90.9854   93.6717    81.3995    0\n",
      "  0        0      106.778  105.889    0      -133.333    95.1729  -133.333     0\n",
      "  0        0      107.675    0        0         0       108.343      0         0\n",
      "  0      109.49   108.578    0        0      -133.333   109.584   -133.333     0\n",
      "  0      110.409    0      114.163  115.122   116.088   123.643    125.25    133.333\n",
      "  0      111.336  112.27   113.213    0       122.025   123.182    124.207     0\n",
      "  0        0        0        0        0         0         0          0         0\n",
      "-------  -------  -------  -------  -------  ---------  --------  ---------  -------\n"
     ]
    }
   ],
   "source": [
    "from tabulate import tabulate\n",
    "v_pi_out = np.copy(v_pi)\n",
    "v_pi_out.resize((9, 9))\n",
    "v_pi_out = np.transpose(v_pi_out)\n",
    "print(tabulate(v_pi_out))"
   ],
   "metadata": {
    "collapsed": false,
    "pycharm": {
     "name": "#%%\n"
    }
   }
  },
  {
   "cell_type": "code",
   "execution_count": 52,
   "outputs": [
    {
     "name": "stdout",
     "output_type": "stream",
     "text": [
      "-  -  -  -  -  -  -  -  -\n",
      "#  #  #  #  #  #  #  #  #\n",
      "#  →  →  ↓  #  X  ↓  X  #\n",
      "→  ↑  #  ↓  ←  ←  ↓  ←  #\n",
      "#  #  ↓  ←  #  X  ↓  X  #\n",
      "#  #  ↓  #  #  #  ↓  #  #\n",
      "#  ↓  ←  #  #  X  ↓  X  #\n",
      "#  ↓  #  →  →  →  →  →  ←\n",
      "#  →  →  ↑  #  →  →  ↑  #\n",
      "#  #  #  #  #  #  #  #  #\n",
      "-  -  -  -  -  -  -  -  -\n"
     ]
    }
   ],
   "source": [
    "policy_out = np.empty(S_COUNT, dtype=str)\n",
    "actions = ['←','↑','→','↓']\n",
    "for i in range(S_COUNT):\n",
    "    if v_pi[i] == 0:\n",
    "        policy_out[i] = '#'\n",
    "    elif v_pi[i] < 0:\n",
    "        policy_out[i] = 'X'\n",
    "    else:\n",
    "        policy_out[i] = actions[policy[i]]\n",
    "\n",
    "policy_out.resize((9, 9))\n",
    "policy_out = np.transpose(policy_out)\n",
    "print(tabulate(policy_out))#%%"
   ],
   "metadata": {
    "collapsed": false,
    "pycharm": {
     "name": "#%%\n"
    }
   }
  },
  {
   "cell_type": "markdown",
   "source": [
    "## (b) Value Iteration"
   ],
   "metadata": {
    "collapsed": false,
    "pycharm": {
     "name": "#%% md\n"
    }
   }
  },
  {
   "cell_type": "code",
   "execution_count": 58,
   "outputs": [],
   "source": [
    "# init policy at random\n",
    "policy = np.random.randint(low=0,high=A_COUNT, size=S_COUNT)\n",
    "v_pi = np.ones(S_COUNT)\n",
    "v_pi_prev = np.zeros(S_COUNT)\n",
    "while max(abs(v_pi - v_pi_prev)) > 0.000001:\n",
    "    for s in range(S_COUNT):\n",
    "        tmp = np.zeros(A_COUNT)\n",
    "        for s_ in range(S_COUNT):\n",
    "            for i in range(A_COUNT):\n",
    "                tmp[i] += trans_matrices[i][s, s_] * v_pi_prev[s_]\n",
    "        v_pi_prev[s] = v_pi[s]\n",
    "        v_pi[s] = rewards[s] + GAMMA * max(tmp)\n",
    "        policy[s] = np.argmax(tmp)"
   ],
   "metadata": {
    "collapsed": false,
    "pycharm": {
     "name": "#%%\n"
    }
   }
  },
  {
   "cell_type": "code",
   "execution_count": 59,
   "outputs": [
    {
     "name": "stdout",
     "output_type": "stream",
     "text": [
      "-------------  -------------  -------------  -------------  -------------  --------------  -------------  --------------  -------------\n",
      "  9.93634e-07    9.93634e-07    9.93634e-07    9.93634e-07    9.93634e-07     9.93634e-07    9.93634e-07     9.93634e-07    9.93634e-07\n",
      "  9.93634e-07  102.375        103.235        104.101          9.93634e-07  -133.333         81.3994       -133.333          9.93634e-07\n",
      "100.701        101.524          9.93634e-07  104.975        103.781          90.9853        93.6716         81.3994         9.93634e-07\n",
      "  9.93634e-07    9.93634e-07  106.778        105.888          9.93634e-07  -133.333         95.1728       -133.333          9.93634e-07\n",
      "  9.93634e-07    9.93634e-07  107.675          9.93634e-07    9.93634e-07     9.93634e-07  108.343           9.93634e-07    9.93634e-07\n",
      "  9.93634e-07  109.49         108.578          9.93634e-07    9.93634e-07  -133.333        109.584        -133.333          9.93634e-07\n",
      "  9.93634e-07  110.409          9.93634e-07  114.163        115.121         116.088        123.643         125.25         133.333\n",
      "  9.93634e-07  111.336        112.27         113.213          9.93634e-07   122.025        123.182         124.207          9.93634e-07\n",
      "  9.93634e-07    9.93634e-07    9.93634e-07    9.93634e-07    9.93634e-07     9.93634e-07    9.93634e-07     9.93634e-07    9.93634e-07\n",
      "-------------  -------------  -------------  -------------  -------------  --------------  -------------  --------------  -------------\n"
     ]
    }
   ],
   "source": [
    "v_pi_out = np.copy(v_pi)\n",
    "v_pi_out.resize((9, 9))\n",
    "v_pi_out = np.transpose(v_pi_out)\n",
    "print(tabulate(v_pi_out))"
   ],
   "metadata": {
    "collapsed": false,
    "pycharm": {
     "name": "#%%\n"
    }
   }
  },
  {
   "cell_type": "code",
   "execution_count": 60,
   "outputs": [
    {
     "name": "stdout",
     "output_type": "stream",
     "text": [
      "-  -  -  -  -  -  -  -  -\n",
      "#  #  #  #  #  #  #  #  #\n",
      "#  →  →  ↓  #  X  ↓  X  #\n",
      "→  ↑  #  ↓  ←  ←  ↓  ←  #\n",
      "#  #  ↓  ←  #  X  ↓  X  #\n",
      "#  #  ↓  #  #  #  ↓  #  #\n",
      "#  ↓  ←  #  #  X  ↓  X  #\n",
      "#  ↓  #  →  →  →  →  →  ←\n",
      "#  →  →  ↑  #  →  →  ↑  #\n",
      "#  #  #  #  #  #  #  #  #\n",
      "-  -  -  -  -  -  -  -  -\n"
     ]
    }
   ],
   "source": [
    "policy_out = np.empty(S_COUNT, dtype=str)\n",
    "actions = ['←','↑','→','↓']\n",
    "for i in range(S_COUNT):\n",
    "    if v_pi[i] < 0:\n",
    "        policy_out[i] = 'X'\n",
    "    elif v_pi[i] <= 0.000001:\n",
    "        policy_out[i] = '#'\n",
    "    else:\n",
    "        policy_out[i] = actions[policy[i]]\n",
    "\n",
    "policy_out.resize((9, 9))\n",
    "policy_out = np.transpose(policy_out)\n",
    "print(tabulate(policy_out))#%%"
   ],
   "metadata": {
    "collapsed": false,
    "pycharm": {
     "name": "#%%\n"
    }
   }
  },
  {
   "cell_type": "code",
   "execution_count": null,
   "outputs": [],
   "source": [],
   "metadata": {
    "collapsed": false,
    "pycharm": {
     "name": "#%%\n"
    }
   }
  }
 ],
 "metadata": {
  "kernelspec": {
   "display_name": "Python 3",
   "language": "python",
   "name": "python3"
  },
  "language_info": {
   "codemirror_mode": {
    "name": "ipython",
    "version": 2
   },
   "file_extension": ".py",
   "mimetype": "text/x-python",
   "name": "python",
   "nbconvert_exporter": "python",
   "pygments_lexer": "ipython2",
   "version": "2.7.6"
  }
 },
 "nbformat": 4,
 "nbformat_minor": 0
}